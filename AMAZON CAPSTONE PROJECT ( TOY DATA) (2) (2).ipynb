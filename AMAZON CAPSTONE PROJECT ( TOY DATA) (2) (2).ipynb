{
 "cells": [
  {
   "cell_type": "markdown",
   "id": "3a928643",
   "metadata": {},
   "source": [
    "# Project -Amazon Product Review Analysis"
   ]
  },
  {
   "cell_type": "markdown",
   "id": "e277b2e6",
   "metadata": {},
   "source": [
    "## Company Overview"
   ]
  },
  {
   "cell_type": "markdown",
   "id": "80b1cee4",
   "metadata": {},
   "source": [
    "The year was 1994 when Jeff Bezos launched Amazon from his garage. In 1995, the first product launched by Amazon was a book in 50 states and in 45 countries within 30 days. (Oberlo 2021)\n",
    "\n",
    "Within 26 years, Amazon became the world's large online retailer and a household name. The Amazon name has become synonymous with online shopping and continues to grow by developing new products, acquisitions, and numerous service offerings to enlarge the customer base\n",
    "\n",
    "Nowadays, almost 150.6 million people turn to the Amazon app for most everything. Several types of research have proven that customers trust Amazon. (Statista 2019) On average, the small and medium-sized businesses located in the USA sell more than 4,000 items per minute (Amazon 2019), which leads to millions of product reviews on Amazon."
   ]
  },
  {
   "cell_type": "code",
   "execution_count": 1,
   "id": "6cd01565",
   "metadata": {},
   "outputs": [],
   "source": [
    "import pandas as pd"
   ]
  },
  {
   "cell_type": "code",
   "execution_count": 2,
   "id": "566c5de0",
   "metadata": {},
   "outputs": [
    {
     "data": {
      "text/html": [
       "<div>\n",
       "<style scoped>\n",
       "    .dataframe tbody tr th:only-of-type {\n",
       "        vertical-align: middle;\n",
       "    }\n",
       "\n",
       "    .dataframe tbody tr th {\n",
       "        vertical-align: top;\n",
       "    }\n",
       "\n",
       "    .dataframe thead th {\n",
       "        text-align: right;\n",
       "    }\n",
       "</style>\n",
       "<table border=\"1\" class=\"dataframe\">\n",
       "  <thead>\n",
       "    <tr style=\"text-align: right;\">\n",
       "      <th></th>\n",
       "      <th>category</th>\n",
       "      <th>tech1</th>\n",
       "      <th>description</th>\n",
       "      <th>fit</th>\n",
       "      <th>title</th>\n",
       "      <th>also_buy</th>\n",
       "      <th>tech2</th>\n",
       "      <th>brand</th>\n",
       "      <th>feature</th>\n",
       "      <th>rank</th>\n",
       "      <th>also_view</th>\n",
       "      <th>main_cat</th>\n",
       "      <th>similar_item</th>\n",
       "      <th>date</th>\n",
       "      <th>price</th>\n",
       "      <th>asin</th>\n",
       "      <th>imageURL</th>\n",
       "      <th>imageURLHighRes</th>\n",
       "      <th>details</th>\n",
       "    </tr>\n",
       "  </thead>\n",
       "  <tbody>\n",
       "    <tr>\n",
       "      <th>0</th>\n",
       "      <td>[Toys &amp; Games, Puzzles, Jigsaw Puzzles]</td>\n",
       "      <td></td>\n",
       "      <td>[Three Dr. Suess' Puzzles: Green Eggs and Ham,...</td>\n",
       "      <td></td>\n",
       "      <td>Dr. Suess 19163 Dr. Seuss Puzzle 3 Pack Bundle</td>\n",
       "      <td>[]</td>\n",
       "      <td></td>\n",
       "      <td>Dr. Seuss</td>\n",
       "      <td>[Three giant floor puzzles, Includes: Dr. Sues...</td>\n",
       "      <td>[&gt;#2,230,717 in Toys &amp; Games (See Top 100 in T...</td>\n",
       "      <td>[]</td>\n",
       "      <td>Toys &amp; Games</td>\n",
       "      <td></td>\n",
       "      <td></td>\n",
       "      <td></td>\n",
       "      <td>0000191639</td>\n",
       "      <td>[https://images-na.ssl-images-amazon.com/image...</td>\n",
       "      <td>[https://images-na.ssl-images-amazon.com/image...</td>\n",
       "      <td>NaN</td>\n",
       "    </tr>\n",
       "    <tr>\n",
       "      <th>1</th>\n",
       "      <td>[]</td>\n",
       "      <td></td>\n",
       "      <td>[&lt;b&gt;Prepare to be Afraid!&lt;/b&gt;&lt;br /&gt;&lt;br /&gt;The B...</td>\n",
       "      <td></td>\n",
       "      <td>Pathfinder: Book of Beasts - Legendary Foes</td>\n",
       "      <td>[]</td>\n",
       "      <td></td>\n",
       "      <td>Pathfinder Roleplaying Jon Brazer Productions</td>\n",
       "      <td>[]</td>\n",
       "      <td>[&gt;#2,294,535 in Toys &amp; Games (See Top 100 in T...</td>\n",
       "      <td>[]</td>\n",
       "      <td>Toys &amp; Games</td>\n",
       "      <td></td>\n",
       "      <td></td>\n",
       "      <td>.a-box-inner{background-color:#fff}#alohaBuyBo...</td>\n",
       "      <td>0004950763</td>\n",
       "      <td>[]</td>\n",
       "      <td>[]</td>\n",
       "      <td>NaN</td>\n",
       "    </tr>\n",
       "    <tr>\n",
       "      <th>2</th>\n",
       "      <td>[]</td>\n",
       "      <td></td>\n",
       "      <td>[]</td>\n",
       "      <td></td>\n",
       "      <td>Nursery Rhymes Felt Book</td>\n",
       "      <td>[]</td>\n",
       "      <td></td>\n",
       "      <td>Betty Lukens</td>\n",
       "      <td>[]</td>\n",
       "      <td>[&gt;#2,871,983 in Toys &amp; Games (See Top 100 in T...</td>\n",
       "      <td>[]</td>\n",
       "      <td>Toys &amp; Games</td>\n",
       "      <td></td>\n",
       "      <td></td>\n",
       "      <td>.a-box-inner{background-color:#fff}#alohaBuyBo...</td>\n",
       "      <td>0005069491</td>\n",
       "      <td>[]</td>\n",
       "      <td>[]</td>\n",
       "      <td>NaN</td>\n",
       "    </tr>\n",
       "    <tr>\n",
       "      <th>3</th>\n",
       "      <td>[Toys &amp; Games, Games, Card Games]</td>\n",
       "      <td></td>\n",
       "      <td>[Blitz Vintage Card Game]</td>\n",
       "      <td></td>\n",
       "      <td>Dutch Blitz Card Game</td>\n",
       "      <td>[B00WIIPQEC]</td>\n",
       "      <td></td>\n",
       "      <td>Dutch Blitz Games Co</td>\n",
       "      <td>[]</td>\n",
       "      <td>[&gt;#376,337 in Toys &amp; Games (See Top 100 in Toy...</td>\n",
       "      <td>[B000BBU0KS, B00NQQTZ5G, B00WIIPQEC, B001VIWAO...</td>\n",
       "      <td>Toys &amp; Games</td>\n",
       "      <td>class=\"a-bordered a-horizontal-stripes  a-spa...</td>\n",
       "      <td></td>\n",
       "      <td>$24.95</td>\n",
       "      <td>0004983289</td>\n",
       "      <td>[]</td>\n",
       "      <td>[]</td>\n",
       "      <td>NaN</td>\n",
       "    </tr>\n",
       "    <tr>\n",
       "      <th>4</th>\n",
       "      <td>[]</td>\n",
       "      <td></td>\n",
       "      <td>[Marvel SuperHeroes themed \"magic ink\" colorin...</td>\n",
       "      <td></td>\n",
       "      <td>Magic Pen Painting (Marvel Super Heroes)</td>\n",
       "      <td>[B009SB7TI8, B009SB8Z1I]</td>\n",
       "      <td></td>\n",
       "      <td>Lee Publications</td>\n",
       "      <td>[]</td>\n",
       "      <td>[&gt;#934,954 in Toys &amp; Games (See Top 100 in Toy...</td>\n",
       "      <td>[]</td>\n",
       "      <td>Toys &amp; Games</td>\n",
       "      <td></td>\n",
       "      <td></td>\n",
       "      <td>$4.92</td>\n",
       "      <td>0006466222</td>\n",
       "      <td>[]</td>\n",
       "      <td>[]</td>\n",
       "      <td>NaN</td>\n",
       "    </tr>\n",
       "  </tbody>\n",
       "</table>\n",
       "</div>"
      ],
      "text/plain": [
       "                                  category tech1  \\\n",
       "0  [Toys & Games, Puzzles, Jigsaw Puzzles]         \n",
       "1                                       []         \n",
       "2                                       []         \n",
       "3        [Toys & Games, Games, Card Games]         \n",
       "4                                       []         \n",
       "\n",
       "                                         description fit  \\\n",
       "0  [Three Dr. Suess' Puzzles: Green Eggs and Ham,...       \n",
       "1  [<b>Prepare to be Afraid!</b><br /><br />The B...       \n",
       "2                                                 []       \n",
       "3                          [Blitz Vintage Card Game]       \n",
       "4  [Marvel SuperHeroes themed \"magic ink\" colorin...       \n",
       "\n",
       "                                            title                  also_buy  \\\n",
       "0  Dr. Suess 19163 Dr. Seuss Puzzle 3 Pack Bundle                        []   \n",
       "1     Pathfinder: Book of Beasts - Legendary Foes                        []   \n",
       "2                        Nursery Rhymes Felt Book                        []   \n",
       "3                           Dutch Blitz Card Game              [B00WIIPQEC]   \n",
       "4        Magic Pen Painting (Marvel Super Heroes)  [B009SB7TI8, B009SB8Z1I]   \n",
       "\n",
       "  tech2                                          brand  \\\n",
       "0                                            Dr. Seuss   \n",
       "1        Pathfinder Roleplaying Jon Brazer Productions   \n",
       "2                                         Betty Lukens   \n",
       "3                                 Dutch Blitz Games Co   \n",
       "4                                     Lee Publications   \n",
       "\n",
       "                                             feature  \\\n",
       "0  [Three giant floor puzzles, Includes: Dr. Sues...   \n",
       "1                                                 []   \n",
       "2                                                 []   \n",
       "3                                                 []   \n",
       "4                                                 []   \n",
       "\n",
       "                                                rank  \\\n",
       "0  [>#2,230,717 in Toys & Games (See Top 100 in T...   \n",
       "1  [>#2,294,535 in Toys & Games (See Top 100 in T...   \n",
       "2  [>#2,871,983 in Toys & Games (See Top 100 in T...   \n",
       "3  [>#376,337 in Toys & Games (See Top 100 in Toy...   \n",
       "4  [>#934,954 in Toys & Games (See Top 100 in Toy...   \n",
       "\n",
       "                                           also_view      main_cat  \\\n",
       "0                                                 []  Toys & Games   \n",
       "1                                                 []  Toys & Games   \n",
       "2                                                 []  Toys & Games   \n",
       "3  [B000BBU0KS, B00NQQTZ5G, B00WIIPQEC, B001VIWAO...  Toys & Games   \n",
       "4                                                 []  Toys & Games   \n",
       "\n",
       "                                        similar_item date  \\\n",
       "0                                                           \n",
       "1                                                           \n",
       "2                                                           \n",
       "3   class=\"a-bordered a-horizontal-stripes  a-spa...        \n",
       "4                                                           \n",
       "\n",
       "                                               price        asin  \\\n",
       "0                                                     0000191639   \n",
       "1  .a-box-inner{background-color:#fff}#alohaBuyBo...  0004950763   \n",
       "2  .a-box-inner{background-color:#fff}#alohaBuyBo...  0005069491   \n",
       "3                                             $24.95  0004983289   \n",
       "4                                              $4.92  0006466222   \n",
       "\n",
       "                                            imageURL  \\\n",
       "0  [https://images-na.ssl-images-amazon.com/image...   \n",
       "1                                                 []   \n",
       "2                                                 []   \n",
       "3                                                 []   \n",
       "4                                                 []   \n",
       "\n",
       "                                     imageURLHighRes details  \n",
       "0  [https://images-na.ssl-images-amazon.com/image...     NaN  \n",
       "1                                                 []     NaN  \n",
       "2                                                 []     NaN  \n",
       "3                                                 []     NaN  \n",
       "4                                                 []     NaN  "
      ]
     },
     "execution_count": 2,
     "metadata": {},
     "output_type": "execute_result"
    }
   ],
   "source": [
    "dfm=pd.read_json('meta_Toys_and_Games.json.gz',lines=True,nrows=100000)\n",
    "dfm.head()"
   ]
  },
  {
   "cell_type": "code",
   "execution_count": 3,
   "id": "5ea6d4ed",
   "metadata": {
    "collapsed": true
   },
   "outputs": [
    {
     "data": {
      "text/plain": [
       "category           object\n",
       "tech1              object\n",
       "description        object\n",
       "fit                object\n",
       "title              object\n",
       "also_buy           object\n",
       "tech2              object\n",
       "brand              object\n",
       "feature            object\n",
       "rank               object\n",
       "also_view          object\n",
       "main_cat           object\n",
       "similar_item       object\n",
       "date               object\n",
       "price              object\n",
       "asin               object\n",
       "imageURL           object\n",
       "imageURLHighRes    object\n",
       "details            object\n",
       "dtype: object"
      ]
     },
     "execution_count": 3,
     "metadata": {},
     "output_type": "execute_result"
    }
   ],
   "source": [
    "dfm.dtypes"
   ]
  },
  {
   "cell_type": "markdown",
   "id": "124c36c0",
   "metadata": {},
   "source": [
    "# TOYS_AND_GAMES_DATA"
   ]
  },
  {
   "cell_type": "code",
   "execution_count": 4,
   "id": "7da7507e",
   "metadata": {
    "scrolled": true
   },
   "outputs": [
    {
     "data": {
      "text/html": [
       "<div>\n",
       "<style scoped>\n",
       "    .dataframe tbody tr th:only-of-type {\n",
       "        vertical-align: middle;\n",
       "    }\n",
       "\n",
       "    .dataframe tbody tr th {\n",
       "        vertical-align: top;\n",
       "    }\n",
       "\n",
       "    .dataframe thead th {\n",
       "        text-align: right;\n",
       "    }\n",
       "</style>\n",
       "<table border=\"1\" class=\"dataframe\">\n",
       "  <thead>\n",
       "    <tr style=\"text-align: right;\">\n",
       "      <th></th>\n",
       "      <th>overall</th>\n",
       "      <th>vote</th>\n",
       "      <th>verified</th>\n",
       "      <th>reviewTime</th>\n",
       "      <th>reviewerID</th>\n",
       "      <th>asin</th>\n",
       "      <th>reviewerName</th>\n",
       "      <th>reviewText</th>\n",
       "      <th>summary</th>\n",
       "      <th>unixReviewTime</th>\n",
       "      <th>image</th>\n",
       "      <th>style</th>\n",
       "    </tr>\n",
       "  </thead>\n",
       "  <tbody>\n",
       "    <tr>\n",
       "      <th>0</th>\n",
       "      <td>2</td>\n",
       "      <td>12</td>\n",
       "      <td>False</td>\n",
       "      <td>09 22, 2016</td>\n",
       "      <td>A1IDMI31WEANAF</td>\n",
       "      <td>0020232233</td>\n",
       "      <td>Mackenzie Kent</td>\n",
       "      <td>When it comes to a DM's screen, the space on t...</td>\n",
       "      <td>The fact that 50% of this space is wasted on a...</td>\n",
       "      <td>1474502400</td>\n",
       "      <td>NaN</td>\n",
       "      <td>NaN</td>\n",
       "    </tr>\n",
       "    <tr>\n",
       "      <th>1</th>\n",
       "      <td>1</td>\n",
       "      <td>21</td>\n",
       "      <td>False</td>\n",
       "      <td>09 18, 2016</td>\n",
       "      <td>A4BCEVVZ4Y3V3</td>\n",
       "      <td>0020232233</td>\n",
       "      <td>Jonathan Christian</td>\n",
       "      <td>An Open Letter to GaleForce9*:\\n\\nYour unpaint...</td>\n",
       "      <td>Another worthless Dungeon Master's screen from...</td>\n",
       "      <td>1474156800</td>\n",
       "      <td>NaN</td>\n",
       "      <td>NaN</td>\n",
       "    </tr>\n",
       "    <tr>\n",
       "      <th>2</th>\n",
       "      <td>3</td>\n",
       "      <td>19</td>\n",
       "      <td>True</td>\n",
       "      <td>09 12, 2016</td>\n",
       "      <td>A2EZ9PY1IHHBX0</td>\n",
       "      <td>0020232233</td>\n",
       "      <td>unpreparedtodie</td>\n",
       "      <td>Nice art, nice printing.  Why two panels are f...</td>\n",
       "      <td>pretty, but also pretty useless</td>\n",
       "      <td>1473638400</td>\n",
       "      <td>NaN</td>\n",
       "      <td>NaN</td>\n",
       "    </tr>\n",
       "    <tr>\n",
       "      <th>3</th>\n",
       "      <td>5</td>\n",
       "      <td>NaN</td>\n",
       "      <td>True</td>\n",
       "      <td>03 2, 2017</td>\n",
       "      <td>A139PXTTC2LGHZ</td>\n",
       "      <td>0020232233</td>\n",
       "      <td>Ashley</td>\n",
       "      <td>Amazing buy! Bought it as a gift for our new d...</td>\n",
       "      <td>Five Stars</td>\n",
       "      <td>1488412800</td>\n",
       "      <td>NaN</td>\n",
       "      <td>NaN</td>\n",
       "    </tr>\n",
       "    <tr>\n",
       "      <th>4</th>\n",
       "      <td>1</td>\n",
       "      <td>3</td>\n",
       "      <td>True</td>\n",
       "      <td>02 8, 2017</td>\n",
       "      <td>A3IB33V29XIL8O</td>\n",
       "      <td>0020232233</td>\n",
       "      <td>Oghma_EM</td>\n",
       "      <td>As my review of GF9's previous screens these w...</td>\n",
       "      <td>Money trap</td>\n",
       "      <td>1486512000</td>\n",
       "      <td>NaN</td>\n",
       "      <td>NaN</td>\n",
       "    </tr>\n",
       "  </tbody>\n",
       "</table>\n",
       "</div>"
      ],
      "text/plain": [
       "   overall vote  verified   reviewTime      reviewerID        asin  \\\n",
       "0        2   12     False  09 22, 2016  A1IDMI31WEANAF  0020232233   \n",
       "1        1   21     False  09 18, 2016   A4BCEVVZ4Y3V3  0020232233   \n",
       "2        3   19      True  09 12, 2016  A2EZ9PY1IHHBX0  0020232233   \n",
       "3        5  NaN      True   03 2, 2017  A139PXTTC2LGHZ  0020232233   \n",
       "4        1    3      True   02 8, 2017  A3IB33V29XIL8O  0020232233   \n",
       "\n",
       "         reviewerName                                         reviewText  \\\n",
       "0      Mackenzie Kent  When it comes to a DM's screen, the space on t...   \n",
       "1  Jonathan Christian  An Open Letter to GaleForce9*:\\n\\nYour unpaint...   \n",
       "2     unpreparedtodie  Nice art, nice printing.  Why two panels are f...   \n",
       "3              Ashley  Amazing buy! Bought it as a gift for our new d...   \n",
       "4            Oghma_EM  As my review of GF9's previous screens these w...   \n",
       "\n",
       "                                             summary  unixReviewTime image  \\\n",
       "0  The fact that 50% of this space is wasted on a...      1474502400   NaN   \n",
       "1  Another worthless Dungeon Master's screen from...      1474156800   NaN   \n",
       "2                    pretty, but also pretty useless      1473638400   NaN   \n",
       "3                                         Five Stars      1488412800   NaN   \n",
       "4                                         Money trap      1486512000   NaN   \n",
       "\n",
       "  style  \n",
       "0   NaN  \n",
       "1   NaN  \n",
       "2   NaN  \n",
       "3   NaN  \n",
       "4   NaN  "
      ]
     },
     "execution_count": 4,
     "metadata": {},
     "output_type": "execute_result"
    }
   ],
   "source": [
    "df=pd.read_json('Toys_and_Games.json.gz',lines=True,nrows=100000)\n",
    "df.head()"
   ]
  },
  {
   "cell_type": "code",
   "execution_count": 5,
   "id": "4529cf16",
   "metadata": {
    "collapsed": true
   },
   "outputs": [
    {
     "name": "stdout",
     "output_type": "stream",
     "text": [
      "<class 'pandas.core.frame.DataFrame'>\n",
      "RangeIndex: 100000 entries, 0 to 99999\n",
      "Data columns (total 12 columns):\n",
      " #   Column          Non-Null Count   Dtype \n",
      "---  ------          --------------   ----- \n",
      " 0   overall         100000 non-null  int64 \n",
      " 1   vote            13716 non-null   object\n",
      " 2   verified        100000 non-null  bool  \n",
      " 3   reviewTime      100000 non-null  object\n",
      " 4   reviewerID      100000 non-null  object\n",
      " 5   asin            100000 non-null  object\n",
      " 6   reviewerName    99995 non-null   object\n",
      " 7   reviewText      99961 non-null   object\n",
      " 8   summary         99979 non-null   object\n",
      " 9   unixReviewTime  100000 non-null  int64 \n",
      " 10  image           1010 non-null    object\n",
      " 11  style           48716 non-null   object\n",
      "dtypes: bool(1), int64(2), object(9)\n",
      "memory usage: 8.5+ MB\n"
     ]
    }
   ],
   "source": [
    "df.info()"
   ]
  },
  {
   "cell_type": "code",
   "execution_count": 6,
   "id": "a5e34de2",
   "metadata": {
    "collapsed": true
   },
   "outputs": [
    {
     "data": {
      "text/plain": [
       "overall               0\n",
       "vote              86284\n",
       "verified              0\n",
       "reviewTime            0\n",
       "reviewerID            0\n",
       "asin                  0\n",
       "reviewerName          5\n",
       "reviewText           39\n",
       "summary              21\n",
       "unixReviewTime        0\n",
       "image             98990\n",
       "style             51284\n",
       "dtype: int64"
      ]
     },
     "execution_count": 6,
     "metadata": {},
     "output_type": "execute_result"
    }
   ],
   "source": [
    "df.isnull().sum()"
   ]
  },
  {
   "cell_type": "code",
   "execution_count": 7,
   "id": "3eb1b0d4",
   "metadata": {},
   "outputs": [],
   "source": [
    "#dropping selected columns\n",
    "df.drop(labels=['vote','reviewerName','summary','image','style'],axis=1,inplace=True)"
   ]
  },
  {
   "cell_type": "code",
   "execution_count": 8,
   "id": "af4717ab",
   "metadata": {
    "collapsed": true
   },
   "outputs": [
    {
     "data": {
      "text/html": [
       "<div>\n",
       "<style scoped>\n",
       "    .dataframe tbody tr th:only-of-type {\n",
       "        vertical-align: middle;\n",
       "    }\n",
       "\n",
       "    .dataframe tbody tr th {\n",
       "        vertical-align: top;\n",
       "    }\n",
       "\n",
       "    .dataframe thead th {\n",
       "        text-align: right;\n",
       "    }\n",
       "</style>\n",
       "<table border=\"1\" class=\"dataframe\">\n",
       "  <thead>\n",
       "    <tr style=\"text-align: right;\">\n",
       "      <th></th>\n",
       "      <th>overall</th>\n",
       "      <th>verified</th>\n",
       "      <th>reviewTime</th>\n",
       "      <th>reviewerID</th>\n",
       "      <th>asin</th>\n",
       "      <th>reviewText</th>\n",
       "      <th>unixReviewTime</th>\n",
       "    </tr>\n",
       "  </thead>\n",
       "  <tbody>\n",
       "    <tr>\n",
       "      <th>0</th>\n",
       "      <td>2</td>\n",
       "      <td>False</td>\n",
       "      <td>2016-09-22</td>\n",
       "      <td>A1IDMI31WEANAF</td>\n",
       "      <td>0020232233</td>\n",
       "      <td>When it comes to a DM's screen, the space on t...</td>\n",
       "      <td>1474502400</td>\n",
       "    </tr>\n",
       "    <tr>\n",
       "      <th>1</th>\n",
       "      <td>1</td>\n",
       "      <td>False</td>\n",
       "      <td>2016-09-18</td>\n",
       "      <td>A4BCEVVZ4Y3V3</td>\n",
       "      <td>0020232233</td>\n",
       "      <td>An Open Letter to GaleForce9*:\\n\\nYour unpaint...</td>\n",
       "      <td>1474156800</td>\n",
       "    </tr>\n",
       "    <tr>\n",
       "      <th>2</th>\n",
       "      <td>3</td>\n",
       "      <td>True</td>\n",
       "      <td>2016-09-12</td>\n",
       "      <td>A2EZ9PY1IHHBX0</td>\n",
       "      <td>0020232233</td>\n",
       "      <td>Nice art, nice printing.  Why two panels are f...</td>\n",
       "      <td>1473638400</td>\n",
       "    </tr>\n",
       "    <tr>\n",
       "      <th>3</th>\n",
       "      <td>5</td>\n",
       "      <td>True</td>\n",
       "      <td>2017-03-02</td>\n",
       "      <td>A139PXTTC2LGHZ</td>\n",
       "      <td>0020232233</td>\n",
       "      <td>Amazing buy! Bought it as a gift for our new d...</td>\n",
       "      <td>1488412800</td>\n",
       "    </tr>\n",
       "    <tr>\n",
       "      <th>4</th>\n",
       "      <td>1</td>\n",
       "      <td>True</td>\n",
       "      <td>2017-02-08</td>\n",
       "      <td>A3IB33V29XIL8O</td>\n",
       "      <td>0020232233</td>\n",
       "      <td>As my review of GF9's previous screens these w...</td>\n",
       "      <td>1486512000</td>\n",
       "    </tr>\n",
       "  </tbody>\n",
       "</table>\n",
       "</div>"
      ],
      "text/plain": [
       "   overall  verified reviewTime      reviewerID        asin  \\\n",
       "0        2     False 2016-09-22  A1IDMI31WEANAF  0020232233   \n",
       "1        1     False 2016-09-18   A4BCEVVZ4Y3V3  0020232233   \n",
       "2        3      True 2016-09-12  A2EZ9PY1IHHBX0  0020232233   \n",
       "3        5      True 2017-03-02  A139PXTTC2LGHZ  0020232233   \n",
       "4        1      True 2017-02-08  A3IB33V29XIL8O  0020232233   \n",
       "\n",
       "                                          reviewText  unixReviewTime  \n",
       "0  When it comes to a DM's screen, the space on t...      1474502400  \n",
       "1  An Open Letter to GaleForce9*:\\n\\nYour unpaint...      1474156800  \n",
       "2  Nice art, nice printing.  Why two panels are f...      1473638400  \n",
       "3  Amazing buy! Bought it as a gift for our new d...      1488412800  \n",
       "4  As my review of GF9's previous screens these w...      1486512000  "
      ]
     },
     "execution_count": 8,
     "metadata": {},
     "output_type": "execute_result"
    }
   ],
   "source": [
    "#replacing reviewTime values with standard format from unix review time\n",
    "df['reviewTime']=df['unixReviewTime'].apply(lambda x:pd.to_datetime(x,unit='s'))\n",
    "df.head()"
   ]
  },
  {
   "cell_type": "code",
   "execution_count": 9,
   "id": "47a7f644",
   "metadata": {
    "collapsed": true
   },
   "outputs": [
    {
     "data": {
      "text/html": [
       "<div>\n",
       "<style scoped>\n",
       "    .dataframe tbody tr th:only-of-type {\n",
       "        vertical-align: middle;\n",
       "    }\n",
       "\n",
       "    .dataframe tbody tr th {\n",
       "        vertical-align: top;\n",
       "    }\n",
       "\n",
       "    .dataframe thead th {\n",
       "        text-align: right;\n",
       "    }\n",
       "</style>\n",
       "<table border=\"1\" class=\"dataframe\">\n",
       "  <thead>\n",
       "    <tr style=\"text-align: right;\">\n",
       "      <th></th>\n",
       "      <th>overall</th>\n",
       "      <th>verified</th>\n",
       "      <th>reviewTime</th>\n",
       "      <th>reviewerID</th>\n",
       "      <th>asin</th>\n",
       "      <th>reviewText</th>\n",
       "    </tr>\n",
       "  </thead>\n",
       "  <tbody>\n",
       "    <tr>\n",
       "      <th>0</th>\n",
       "      <td>2</td>\n",
       "      <td>False</td>\n",
       "      <td>2016-09-22</td>\n",
       "      <td>A1IDMI31WEANAF</td>\n",
       "      <td>0020232233</td>\n",
       "      <td>When it comes to a DM's screen, the space on t...</td>\n",
       "    </tr>\n",
       "    <tr>\n",
       "      <th>1</th>\n",
       "      <td>1</td>\n",
       "      <td>False</td>\n",
       "      <td>2016-09-18</td>\n",
       "      <td>A4BCEVVZ4Y3V3</td>\n",
       "      <td>0020232233</td>\n",
       "      <td>An Open Letter to GaleForce9*:\\n\\nYour unpaint...</td>\n",
       "    </tr>\n",
       "    <tr>\n",
       "      <th>2</th>\n",
       "      <td>3</td>\n",
       "      <td>True</td>\n",
       "      <td>2016-09-12</td>\n",
       "      <td>A2EZ9PY1IHHBX0</td>\n",
       "      <td>0020232233</td>\n",
       "      <td>Nice art, nice printing.  Why two panels are f...</td>\n",
       "    </tr>\n",
       "    <tr>\n",
       "      <th>3</th>\n",
       "      <td>5</td>\n",
       "      <td>True</td>\n",
       "      <td>2017-03-02</td>\n",
       "      <td>A139PXTTC2LGHZ</td>\n",
       "      <td>0020232233</td>\n",
       "      <td>Amazing buy! Bought it as a gift for our new d...</td>\n",
       "    </tr>\n",
       "    <tr>\n",
       "      <th>4</th>\n",
       "      <td>1</td>\n",
       "      <td>True</td>\n",
       "      <td>2017-02-08</td>\n",
       "      <td>A3IB33V29XIL8O</td>\n",
       "      <td>0020232233</td>\n",
       "      <td>As my review of GF9's previous screens these w...</td>\n",
       "    </tr>\n",
       "  </tbody>\n",
       "</table>\n",
       "</div>"
      ],
      "text/plain": [
       "   overall  verified reviewTime      reviewerID        asin  \\\n",
       "0        2     False 2016-09-22  A1IDMI31WEANAF  0020232233   \n",
       "1        1     False 2016-09-18   A4BCEVVZ4Y3V3  0020232233   \n",
       "2        3      True 2016-09-12  A2EZ9PY1IHHBX0  0020232233   \n",
       "3        5      True 2017-03-02  A139PXTTC2LGHZ  0020232233   \n",
       "4        1      True 2017-02-08  A3IB33V29XIL8O  0020232233   \n",
       "\n",
       "                                          reviewText  \n",
       "0  When it comes to a DM's screen, the space on t...  \n",
       "1  An Open Letter to GaleForce9*:\\n\\nYour unpaint...  \n",
       "2  Nice art, nice printing.  Why two panels are f...  \n",
       "3  Amazing buy! Bought it as a gift for our new d...  \n",
       "4  As my review of GF9's previous screens these w...  "
      ]
     },
     "execution_count": 9,
     "metadata": {},
     "output_type": "execute_result"
    }
   ],
   "source": [
    "#dropping the unix time column after extraction\n",
    "df.drop(labels='unixReviewTime',axis=1,inplace=True)\n",
    "df.head()"
   ]
  },
  {
   "cell_type": "code",
   "execution_count": 10,
   "id": "3bedbfcc",
   "metadata": {
    "collapsed": true
   },
   "outputs": [
    {
     "data": {
      "text/html": [
       "<div>\n",
       "<style scoped>\n",
       "    .dataframe tbody tr th:only-of-type {\n",
       "        vertical-align: middle;\n",
       "    }\n",
       "\n",
       "    .dataframe tbody tr th {\n",
       "        vertical-align: top;\n",
       "    }\n",
       "\n",
       "    .dataframe thead th {\n",
       "        text-align: right;\n",
       "    }\n",
       "</style>\n",
       "<table border=\"1\" class=\"dataframe\">\n",
       "  <thead>\n",
       "    <tr style=\"text-align: right;\">\n",
       "      <th></th>\n",
       "      <th>overall</th>\n",
       "      <th>verified</th>\n",
       "      <th>reviewTime</th>\n",
       "      <th>reviewerID</th>\n",
       "      <th>asin</th>\n",
       "      <th>reviewText</th>\n",
       "    </tr>\n",
       "  </thead>\n",
       "  <tbody>\n",
       "    <tr>\n",
       "      <th>0</th>\n",
       "      <td>2</td>\n",
       "      <td>False</td>\n",
       "      <td>2016-09-22</td>\n",
       "      <td>A1IDMI31WEANAF</td>\n",
       "      <td>0020232233</td>\n",
       "      <td>When it comes to a DM's screen, the space on t...</td>\n",
       "    </tr>\n",
       "    <tr>\n",
       "      <th>1</th>\n",
       "      <td>1</td>\n",
       "      <td>False</td>\n",
       "      <td>2016-09-18</td>\n",
       "      <td>A4BCEVVZ4Y3V3</td>\n",
       "      <td>0020232233</td>\n",
       "      <td>An Open Letter to GaleForce9*:\\n\\nYour unpaint...</td>\n",
       "    </tr>\n",
       "    <tr>\n",
       "      <th>2</th>\n",
       "      <td>3</td>\n",
       "      <td>True</td>\n",
       "      <td>2016-09-12</td>\n",
       "      <td>A2EZ9PY1IHHBX0</td>\n",
       "      <td>0020232233</td>\n",
       "      <td>Nice art, nice printing.  Why two panels are f...</td>\n",
       "    </tr>\n",
       "    <tr>\n",
       "      <th>3</th>\n",
       "      <td>5</td>\n",
       "      <td>True</td>\n",
       "      <td>2017-03-02</td>\n",
       "      <td>A139PXTTC2LGHZ</td>\n",
       "      <td>0020232233</td>\n",
       "      <td>Amazing buy! Bought it as a gift for our new d...</td>\n",
       "    </tr>\n",
       "    <tr>\n",
       "      <th>4</th>\n",
       "      <td>1</td>\n",
       "      <td>True</td>\n",
       "      <td>2017-02-08</td>\n",
       "      <td>A3IB33V29XIL8O</td>\n",
       "      <td>0020232233</td>\n",
       "      <td>As my review of GF9's previous screens these w...</td>\n",
       "    </tr>\n",
       "  </tbody>\n",
       "</table>\n",
       "</div>"
      ],
      "text/plain": [
       "   overall  verified reviewTime      reviewerID        asin  \\\n",
       "0        2     False 2016-09-22  A1IDMI31WEANAF  0020232233   \n",
       "1        1     False 2016-09-18   A4BCEVVZ4Y3V3  0020232233   \n",
       "2        3      True 2016-09-12  A2EZ9PY1IHHBX0  0020232233   \n",
       "3        5      True 2017-03-02  A139PXTTC2LGHZ  0020232233   \n",
       "4        1      True 2017-02-08  A3IB33V29XIL8O  0020232233   \n",
       "\n",
       "                                          reviewText  \n",
       "0  When it comes to a DM's screen, the space on t...  \n",
       "1  An Open Letter to GaleForce9*:\\n\\nYour unpaint...  \n",
       "2  Nice art, nice printing.  Why two panels are f...  \n",
       "3  Amazing buy! Bought it as a gift for our new d...  \n",
       "4  As my review of GF9's previous screens these w...  "
      ]
     },
     "execution_count": 10,
     "metadata": {},
     "output_type": "execute_result"
    }
   ],
   "source": [
    "#dropping the null review text data and resetting index\n",
    "df=df[df['reviewText'].notnull()]\n",
    "df.reset_index(drop=True)\n",
    "df.head()"
   ]
  },
  {
   "cell_type": "code",
   "execution_count": 11,
   "id": "b0b30a1c",
   "metadata": {},
   "outputs": [
    {
     "name": "stdout",
     "output_type": "stream",
     "text": [
      "<class 'pandas.core.frame.DataFrame'>\n",
      "Int64Index: 99961 entries, 0 to 99999\n",
      "Data columns (total 6 columns):\n",
      " #   Column      Non-Null Count  Dtype         \n",
      "---  ------      --------------  -----         \n",
      " 0   overall     99961 non-null  int64         \n",
      " 1   verified    99961 non-null  bool          \n",
      " 2   reviewTime  99961 non-null  datetime64[ns]\n",
      " 3   reviewerID  99961 non-null  object        \n",
      " 4   asin        99961 non-null  object        \n",
      " 5   reviewText  99961 non-null  object        \n",
      "dtypes: bool(1), datetime64[ns](1), int64(1), object(3)\n",
      "memory usage: 4.7+ MB\n"
     ]
    }
   ],
   "source": [
    "#checking for data after initial cleaning\n",
    "df.info()"
   ]
  },
  {
   "cell_type": "code",
   "execution_count": 12,
   "id": "6a3e8169",
   "metadata": {},
   "outputs": [],
   "source": [
    "# again cleaning data using regrex and spacy library\n",
    "import re\n",
    "def text_process(text):\n",
    "    \n",
    "    #Remove punctuation\n",
    "    text=re.sub('[^\\w\\s]','',text)\n",
    "    #Remove hashtags\n",
    "    text=re.sub('#\\W+','',text)\n",
    "    # Remove all non-letters and non-spaces\n",
    "    text = re.sub(\"[^a-zA-Z0-9\\s ]\",'', text)\n",
    "    # Remove all numbers\n",
    "    text = re.sub(\"\\d+\", \"\", text)\n",
    "    #Remove underscore\n",
    "    text=re.sub('_','',text)\n",
    "    #Remove urls\n",
    "    text=re.sub('http\\S+','',text)\n",
    "    #Remove html tags\n",
    "    text=re.sub('<.*?>','',text)\n",
    "    # Remove all hyphens except between two words\n",
    "    text = re.sub(\"-(?!\\w)|(?<!\\w)-\", \"\", text)\n",
    "    # Remove multiple spaces and lowercase everything\n",
    "    text =re.sub('\\s+',' ',text)\n",
    "    text=text.lower()\n",
    "\n",
    "    return text"
   ]
  },
  {
   "cell_type": "code",
   "execution_count": 13,
   "id": "493eaae9",
   "metadata": {},
   "outputs": [
    {
     "data": {
      "text/plain": [
       "0    when it comes to a dms screen the space on the...\n",
       "1    an open letter to galeforce your unpainted min...\n",
       "2    nice art nice printing why two panels are fill...\n",
       "3    amazing buy bought it as a gift for our new dm...\n",
       "4    as my review of gfs previous screens these wer...\n",
       "Name: reviewText, dtype: object"
      ]
     },
     "execution_count": 13,
     "metadata": {},
     "output_type": "execute_result"
    }
   ],
   "source": [
    "# Applying the clean function on text column of toy data\n",
    "import warnings \n",
    "warnings.filterwarnings('ignore')\n",
    "df['reviewText']=df['reviewText'].apply(text_process)\n",
    "df['reviewText'].head()"
   ]
  },
  {
   "cell_type": "code",
   "execution_count": 14,
   "id": "b349d53b",
   "metadata": {},
   "outputs": [
    {
     "data": {
      "text/html": [
       "<div>\n",
       "<style scoped>\n",
       "    .dataframe tbody tr th:only-of-type {\n",
       "        vertical-align: middle;\n",
       "    }\n",
       "\n",
       "    .dataframe tbody tr th {\n",
       "        vertical-align: top;\n",
       "    }\n",
       "\n",
       "    .dataframe thead th {\n",
       "        text-align: right;\n",
       "    }\n",
       "</style>\n",
       "<table border=\"1\" class=\"dataframe\">\n",
       "  <thead>\n",
       "    <tr style=\"text-align: right;\">\n",
       "      <th></th>\n",
       "      <th>overall</th>\n",
       "      <th>verified</th>\n",
       "      <th>reviewTime</th>\n",
       "      <th>reviewerID</th>\n",
       "      <th>asin</th>\n",
       "      <th>reviewText</th>\n",
       "    </tr>\n",
       "  </thead>\n",
       "  <tbody>\n",
       "    <tr>\n",
       "      <th>0</th>\n",
       "      <td>2</td>\n",
       "      <td>False</td>\n",
       "      <td>2016-09-22</td>\n",
       "      <td>A1IDMI31WEANAF</td>\n",
       "      <td>0020232233</td>\n",
       "      <td>when it comes to a dms screen the space on the...</td>\n",
       "    </tr>\n",
       "    <tr>\n",
       "      <th>1</th>\n",
       "      <td>1</td>\n",
       "      <td>False</td>\n",
       "      <td>2016-09-18</td>\n",
       "      <td>A4BCEVVZ4Y3V3</td>\n",
       "      <td>0020232233</td>\n",
       "      <td>an open letter to galeforce your unpainted min...</td>\n",
       "    </tr>\n",
       "    <tr>\n",
       "      <th>2</th>\n",
       "      <td>3</td>\n",
       "      <td>True</td>\n",
       "      <td>2016-09-12</td>\n",
       "      <td>A2EZ9PY1IHHBX0</td>\n",
       "      <td>0020232233</td>\n",
       "      <td>nice art nice printing why two panels are fill...</td>\n",
       "    </tr>\n",
       "    <tr>\n",
       "      <th>3</th>\n",
       "      <td>5</td>\n",
       "      <td>True</td>\n",
       "      <td>2017-03-02</td>\n",
       "      <td>A139PXTTC2LGHZ</td>\n",
       "      <td>0020232233</td>\n",
       "      <td>amazing buy bought it as a gift for our new dm...</td>\n",
       "    </tr>\n",
       "    <tr>\n",
       "      <th>4</th>\n",
       "      <td>1</td>\n",
       "      <td>True</td>\n",
       "      <td>2017-02-08</td>\n",
       "      <td>A3IB33V29XIL8O</td>\n",
       "      <td>0020232233</td>\n",
       "      <td>as my review of gfs previous screens these wer...</td>\n",
       "    </tr>\n",
       "    <tr>\n",
       "      <th>...</th>\n",
       "      <td>...</td>\n",
       "      <td>...</td>\n",
       "      <td>...</td>\n",
       "      <td>...</td>\n",
       "      <td>...</td>\n",
       "      <td>...</td>\n",
       "    </tr>\n",
       "    <tr>\n",
       "      <th>99995</th>\n",
       "      <td>4</td>\n",
       "      <td>True</td>\n",
       "      <td>2013-01-30</td>\n",
       "      <td>A36WT4GN8HVA9V</td>\n",
       "      <td>B00003G1U2</td>\n",
       "      <td>great portable board for family fun pucks are ...</td>\n",
       "    </tr>\n",
       "    <tr>\n",
       "      <th>99996</th>\n",
       "      <td>5</td>\n",
       "      <td>True</td>\n",
       "      <td>2013-01-24</td>\n",
       "      <td>A28ZXABYLHW528</td>\n",
       "      <td>B00003G1U2</td>\n",
       "      <td>this product is made in the usa and of real wo...</td>\n",
       "    </tr>\n",
       "    <tr>\n",
       "      <th>99997</th>\n",
       "      <td>5</td>\n",
       "      <td>True</td>\n",
       "      <td>2013-01-20</td>\n",
       "      <td>A3V3NRM2EF9NBJ</td>\n",
       "      <td>B00003G1U2</td>\n",
       "      <td>i have to agree with everyone else this is a f...</td>\n",
       "    </tr>\n",
       "    <tr>\n",
       "      <th>99998</th>\n",
       "      <td>1</td>\n",
       "      <td>True</td>\n",
       "      <td>2014-12-16</td>\n",
       "      <td>A57FEF0BO5XL9</td>\n",
       "      <td>B00003GPDU</td>\n",
       "      <td>looked bigger in the photos too small even for...</td>\n",
       "    </tr>\n",
       "    <tr>\n",
       "      <th>99999</th>\n",
       "      <td>4</td>\n",
       "      <td>True</td>\n",
       "      <td>2014-12-16</td>\n",
       "      <td>A1APB0ANCI5PFU</td>\n",
       "      <td>B00003GPDU</td>\n",
       "      <td>the small thumbnail image is accurate the larg...</td>\n",
       "    </tr>\n",
       "  </tbody>\n",
       "</table>\n",
       "<p>99961 rows × 6 columns</p>\n",
       "</div>"
      ],
      "text/plain": [
       "       overall  verified reviewTime      reviewerID        asin  \\\n",
       "0            2     False 2016-09-22  A1IDMI31WEANAF  0020232233   \n",
       "1            1     False 2016-09-18   A4BCEVVZ4Y3V3  0020232233   \n",
       "2            3      True 2016-09-12  A2EZ9PY1IHHBX0  0020232233   \n",
       "3            5      True 2017-03-02  A139PXTTC2LGHZ  0020232233   \n",
       "4            1      True 2017-02-08  A3IB33V29XIL8O  0020232233   \n",
       "...        ...       ...        ...             ...         ...   \n",
       "99995        4      True 2013-01-30  A36WT4GN8HVA9V  B00003G1U2   \n",
       "99996        5      True 2013-01-24  A28ZXABYLHW528  B00003G1U2   \n",
       "99997        5      True 2013-01-20  A3V3NRM2EF9NBJ  B00003G1U2   \n",
       "99998        1      True 2014-12-16   A57FEF0BO5XL9  B00003GPDU   \n",
       "99999        4      True 2014-12-16  A1APB0ANCI5PFU  B00003GPDU   \n",
       "\n",
       "                                              reviewText  \n",
       "0      when it comes to a dms screen the space on the...  \n",
       "1      an open letter to galeforce your unpainted min...  \n",
       "2      nice art nice printing why two panels are fill...  \n",
       "3      amazing buy bought it as a gift for our new dm...  \n",
       "4      as my review of gfs previous screens these wer...  \n",
       "...                                                  ...  \n",
       "99995  great portable board for family fun pucks are ...  \n",
       "99996  this product is made in the usa and of real wo...  \n",
       "99997  i have to agree with everyone else this is a f...  \n",
       "99998  looked bigger in the photos too small even for...  \n",
       "99999  the small thumbnail image is accurate the larg...  \n",
       "\n",
       "[99961 rows x 6 columns]"
      ]
     },
     "execution_count": 14,
     "metadata": {},
     "output_type": "execute_result"
    }
   ],
   "source": [
    "df"
   ]
  },
  {
   "cell_type": "markdown",
   "id": "a2308a14",
   "metadata": {},
   "source": [
    "To make the process more efficient many characters were removed and uppercase are converted to lower case"
   ]
  },
  {
   "cell_type": "markdown",
   "id": "5af7a23f",
   "metadata": {},
   "source": [
    "To improve the overall quality we remove STOP WORDS and convert words into their base word using lemmatization "
   ]
  },
  {
   "cell_type": "code",
   "execution_count": 15,
   "id": "27a7563a",
   "metadata": {},
   "outputs": [],
   "source": [
    "# !pip install spacy"
   ]
  },
  {
   "cell_type": "code",
   "execution_count": 16,
   "id": "d6550835",
   "metadata": {
    "collapsed": true
   },
   "outputs": [
    {
     "name": "stdout",
     "output_type": "stream",
     "text": [
      "Collecting en-core-web-sm==3.5.0\n",
      "  Downloading https://github.com/explosion/spacy-models/releases/download/en_core_web_sm-3.5.0/en_core_web_sm-3.5.0-py3-none-any.whl (12.8 MB)\n",
      "     --------------------------------------- 12.8/12.8 MB 25.1 MB/s eta 0:00:00\n",
      "Requirement already satisfied: spacy<3.6.0,>=3.5.0 in c:\\users\\prakash.j.m\\anaconda3\\new folder\\lib\\site-packages (from en-core-web-sm==3.5.0) (3.5.3)\n",
      "Requirement already satisfied: typer<0.8.0,>=0.3.0 in c:\\users\\prakash.j.m\\anaconda3\\new folder\\lib\\site-packages (from spacy<3.6.0,>=3.5.0->en-core-web-sm==3.5.0) (0.7.0)\n",
      "Requirement already satisfied: setuptools in c:\\users\\prakash.j.m\\anaconda3\\new folder\\lib\\site-packages (from spacy<3.6.0,>=3.5.0->en-core-web-sm==3.5.0) (65.6.3)\n",
      "Requirement already satisfied: langcodes<4.0.0,>=3.2.0 in c:\\users\\prakash.j.m\\anaconda3\\new folder\\lib\\site-packages (from spacy<3.6.0,>=3.5.0->en-core-web-sm==3.5.0) (3.3.0)\n",
      "Requirement already satisfied: preshed<3.1.0,>=3.0.2 in c:\\users\\prakash.j.m\\anaconda3\\new folder\\lib\\site-packages (from spacy<3.6.0,>=3.5.0->en-core-web-sm==3.5.0) (3.0.8)\n",
      "Requirement already satisfied: cymem<2.1.0,>=2.0.2 in c:\\users\\prakash.j.m\\anaconda3\\new folder\\lib\\site-packages (from spacy<3.6.0,>=3.5.0->en-core-web-sm==3.5.0) (2.0.7)\n",
      "Requirement already satisfied: wasabi<1.2.0,>=0.9.1 in c:\\users\\prakash.j.m\\anaconda3\\new folder\\lib\\site-packages (from spacy<3.6.0,>=3.5.0->en-core-web-sm==3.5.0) (1.1.2)\n",
      "Requirement already satisfied: tqdm<5.0.0,>=4.38.0 in c:\\users\\prakash.j.m\\anaconda3\\new folder\\lib\\site-packages (from spacy<3.6.0,>=3.5.0->en-core-web-sm==3.5.0) (4.64.1)\n",
      "Requirement already satisfied: srsly<3.0.0,>=2.4.3 in c:\\users\\prakash.j.m\\anaconda3\\new folder\\lib\\site-packages (from spacy<3.6.0,>=3.5.0->en-core-web-sm==3.5.0) (2.4.6)\n",
      "Requirement already satisfied: pydantic!=1.8,!=1.8.1,<1.11.0,>=1.7.4 in c:\\users\\prakash.j.m\\anaconda3\\new folder\\lib\\site-packages (from spacy<3.6.0,>=3.5.0->en-core-web-sm==3.5.0) (1.10.9)\n",
      "Requirement already satisfied: catalogue<2.1.0,>=2.0.6 in c:\\users\\prakash.j.m\\anaconda3\\new folder\\lib\\site-packages (from spacy<3.6.0,>=3.5.0->en-core-web-sm==3.5.0) (2.0.8)\n",
      "Requirement already satisfied: jinja2 in c:\\users\\prakash.j.m\\anaconda3\\new folder\\lib\\site-packages (from spacy<3.6.0,>=3.5.0->en-core-web-sm==3.5.0) (3.1.2)\n",
      "Requirement already satisfied: spacy-legacy<3.1.0,>=3.0.11 in c:\\users\\prakash.j.m\\anaconda3\\new folder\\lib\\site-packages (from spacy<3.6.0,>=3.5.0->en-core-web-sm==3.5.0) (3.0.12)\n",
      "Requirement already satisfied: murmurhash<1.1.0,>=0.28.0 in c:\\users\\prakash.j.m\\anaconda3\\new folder\\lib\\site-packages (from spacy<3.6.0,>=3.5.0->en-core-web-sm==3.5.0) (1.0.9)\n",
      "Requirement already satisfied: spacy-loggers<2.0.0,>=1.0.0 in c:\\users\\prakash.j.m\\anaconda3\\new folder\\lib\\site-packages (from spacy<3.6.0,>=3.5.0->en-core-web-sm==3.5.0) (1.0.4)\n",
      "Requirement already satisfied: numpy>=1.15.0 in c:\\users\\prakash.j.m\\anaconda3\\new folder\\lib\\site-packages (from spacy<3.6.0,>=3.5.0->en-core-web-sm==3.5.0) (1.23.5)\n",
      "Requirement already satisfied: smart-open<7.0.0,>=5.2.1 in c:\\users\\prakash.j.m\\anaconda3\\new folder\\lib\\site-packages (from spacy<3.6.0,>=3.5.0->en-core-web-sm==3.5.0) (5.2.1)\n",
      "Requirement already satisfied: packaging>=20.0 in c:\\users\\prakash.j.m\\anaconda3\\new folder\\lib\\site-packages (from spacy<3.6.0,>=3.5.0->en-core-web-sm==3.5.0) (22.0)\n",
      "Requirement already satisfied: thinc<8.2.0,>=8.1.8 in c:\\users\\prakash.j.m\\anaconda3\\new folder\\lib\\site-packages (from spacy<3.6.0,>=3.5.0->en-core-web-sm==3.5.0) (8.1.10)\n",
      "Requirement already satisfied: pathy>=0.10.0 in c:\\users\\prakash.j.m\\anaconda3\\new folder\\lib\\site-packages (from spacy<3.6.0,>=3.5.0->en-core-web-sm==3.5.0) (0.10.2)\n",
      "Requirement already satisfied: requests<3.0.0,>=2.13.0 in c:\\users\\prakash.j.m\\anaconda3\\new folder\\lib\\site-packages (from spacy<3.6.0,>=3.5.0->en-core-web-sm==3.5.0) (2.28.1)\n",
      "Requirement already satisfied: typing-extensions>=4.2.0 in c:\\users\\prakash.j.m\\anaconda3\\new folder\\lib\\site-packages (from pydantic!=1.8,!=1.8.1,<1.11.0,>=1.7.4->spacy<3.6.0,>=3.5.0->en-core-web-sm==3.5.0) (4.4.0)\n",
      "Requirement already satisfied: idna<4,>=2.5 in c:\\users\\prakash.j.m\\anaconda3\\new folder\\lib\\site-packages (from requests<3.0.0,>=2.13.0->spacy<3.6.0,>=3.5.0->en-core-web-sm==3.5.0) (3.4)\n",
      "Requirement already satisfied: certifi>=2017.4.17 in c:\\users\\prakash.j.m\\anaconda3\\new folder\\lib\\site-packages (from requests<3.0.0,>=2.13.0->spacy<3.6.0,>=3.5.0->en-core-web-sm==3.5.0) (2022.12.7)\n",
      "Requirement already satisfied: urllib3<1.27,>=1.21.1 in c:\\users\\prakash.j.m\\anaconda3\\new folder\\lib\\site-packages (from requests<3.0.0,>=2.13.0->spacy<3.6.0,>=3.5.0->en-core-web-sm==3.5.0) (1.26.14)\n",
      "Requirement already satisfied: charset-normalizer<3,>=2 in c:\\users\\prakash.j.m\\anaconda3\\new folder\\lib\\site-packages (from requests<3.0.0,>=2.13.0->spacy<3.6.0,>=3.5.0->en-core-web-sm==3.5.0) (2.0.4)\n",
      "Requirement already satisfied: confection<1.0.0,>=0.0.1 in c:\\users\\prakash.j.m\\anaconda3\\new folder\\lib\\site-packages (from thinc<8.2.0,>=8.1.8->spacy<3.6.0,>=3.5.0->en-core-web-sm==3.5.0) (0.0.4)\n",
      "Requirement already satisfied: blis<0.8.0,>=0.7.8 in c:\\users\\prakash.j.m\\anaconda3\\new folder\\lib\\site-packages (from thinc<8.2.0,>=8.1.8->spacy<3.6.0,>=3.5.0->en-core-web-sm==3.5.0) (0.7.9)\n",
      "Requirement already satisfied: colorama in c:\\users\\prakash.j.m\\anaconda3\\new folder\\lib\\site-packages (from tqdm<5.0.0,>=4.38.0->spacy<3.6.0,>=3.5.0->en-core-web-sm==3.5.0) (0.4.6)\n",
      "Requirement already satisfied: click<9.0.0,>=7.1.1 in c:\\users\\prakash.j.m\\anaconda3\\new folder\\lib\\site-packages (from typer<0.8.0,>=0.3.0->spacy<3.6.0,>=3.5.0->en-core-web-sm==3.5.0) (8.0.4)\n",
      "Requirement already satisfied: MarkupSafe>=2.0 in c:\\users\\prakash.j.m\\anaconda3\\new folder\\lib\\site-packages (from jinja2->spacy<3.6.0,>=3.5.0->en-core-web-sm==3.5.0) (2.1.1)\n",
      "\u001b[38;5;2m[+] Download and installation successful\u001b[0m\n",
      "You can now load the package via spacy.load('en_core_web_sm')\n"
     ]
    }
   ],
   "source": [
    "!python -m spacy download en_core_web_sm"
   ]
  },
  {
   "cell_type": "code",
   "execution_count": 17,
   "id": "6c84486c",
   "metadata": {},
   "outputs": [],
   "source": [
    "# !pip install spacy\n",
    "import spacy\n",
    "nlp=spacy.load('en_core_web_sm')\n",
    "\n",
    "#getting stop words from the library\n",
    "spacy_words=spacy.lang.en.stop_words.STOP_WORDS"
   ]
  },
  {
   "cell_type": "code",
   "execution_count": 18,
   "id": "b7594a9b",
   "metadata": {},
   "outputs": [],
   "source": [
    "# Defining a function to convert words into their base word using lemmatization from spacy library\n",
    "def sp_lem(text):\n",
    "    txt=nlp(text)\n",
    "    return ' '.join(token.lemma_ for token in txt)"
   ]
  },
  {
   "cell_type": "code",
   "execution_count": 19,
   "id": "27e59836",
   "metadata": {},
   "outputs": [],
   "source": [
    "# applying the review text in toy data\n",
    "df['reviewText']=df['reviewText'].apply(sp_lem)"
   ]
  },
  {
   "cell_type": "code",
   "execution_count": 20,
   "id": "45c2d6ce",
   "metadata": {},
   "outputs": [],
   "source": [
    "# Defining function for removal of stop words from spacy library\n",
    "def sp_stp(text):\n",
    "    filterdata=[]    #creating empty list\n",
    "    stp=nlp(text)\n",
    "    for word in stp:\n",
    "        if word.is_stop==False:\n",
    "            filterdata.append(word)   #adding non stop words into list\n",
    "    return ' '.join(i.text for i in filterdata) #joining the tokens into a string"
   ]
  },
  {
   "cell_type": "code",
   "execution_count": 21,
   "id": "f15786e7",
   "metadata": {},
   "outputs": [],
   "source": [
    "# applying the stopwords for text in toy data\n",
    "df['reviewText']=df['reviewText'].apply(sp_stp)"
   ]
  },
  {
   "cell_type": "code",
   "execution_count": 22,
   "id": "6309dbe0",
   "metadata": {},
   "outputs": [
    {
     "data": {
      "text/plain": [
       "0    come dms screen space screen absolute premium ...\n",
       "1    open letter galeforce unpainted miniature bad ...\n",
       "2    nice art nice printing panel fill general forg...\n",
       "3                  amazing buy buy gift new dm perfect\n",
       "4    review gfs previous screen completely unnecess...\n",
       "Name: reviewText, dtype: object"
      ]
     },
     "execution_count": 22,
     "metadata": {},
     "output_type": "execute_result"
    }
   ],
   "source": [
    "# checking the text after removing stopwords and lemmatization\n",
    "df['reviewText'].head()"
   ]
  },
  {
   "cell_type": "markdown",
   "id": "978c1d0f",
   "metadata": {},
   "source": [
    "we can see that words are converted into thier base words and stop words are removed"
   ]
  },
  {
   "cell_type": "code",
   "execution_count": 23,
   "id": "a9eb7d8f",
   "metadata": {},
   "outputs": [
    {
     "data": {
      "text/plain": [
       "0"
      ]
     },
     "execution_count": 23,
     "metadata": {},
     "output_type": "execute_result"
    }
   ],
   "source": [
    "#checking if there is any null observations in text feature after spacy process\n",
    "df['reviewText'].isnull().sum()"
   ]
  },
  {
   "cell_type": "code",
   "execution_count": 24,
   "id": "4d818b88",
   "metadata": {},
   "outputs": [],
   "source": [
    "#No missing observations found"
   ]
  },
  {
   "cell_type": "markdown",
   "id": "0ea5d76b",
   "metadata": {},
   "source": [
    "# SENTIMENT ANALYSIS\n",
    "For sentiment analysis we are going to use TEXTBLOB library which provides a polarity score for sentiment analysis\\\n",
    "Using TextBlob to analyze the reviews and decide its sentiment,This will help us understand how customers feel about the product.\\\n",
    "polarity score (ranging from -1 to 1)\\\n",
    "if score is -1 its in  negative sentiment\\\n",
    "if score is  close to 1 its in  postive sentiment\\\n",
    "if score is 0 its in neutral sentiment"
   ]
  },
  {
   "cell_type": "code",
   "execution_count": 25,
   "id": "0fb53971",
   "metadata": {
    "collapsed": true
   },
   "outputs": [
    {
     "name": "stdout",
     "output_type": "stream",
     "text": [
      "Collecting textblob\n",
      "  Using cached textblob-0.17.1-py2.py3-none-any.whl (636 kB)\n",
      "Requirement already satisfied: nltk>=3.1 in c:\\users\\prakash.j.m\\anaconda3\\new folder\\lib\\site-packages (from textblob) (3.7)\n",
      "Requirement already satisfied: joblib in c:\\users\\prakash.j.m\\anaconda3\\new folder\\lib\\site-packages (from nltk>=3.1->textblob) (1.1.1)\n",
      "Requirement already satisfied: click in c:\\users\\prakash.j.m\\anaconda3\\new folder\\lib\\site-packages (from nltk>=3.1->textblob) (8.0.4)\n",
      "Requirement already satisfied: regex>=2021.8.3 in c:\\users\\prakash.j.m\\anaconda3\\new folder\\lib\\site-packages (from nltk>=3.1->textblob) (2022.7.9)\n",
      "Requirement already satisfied: tqdm in c:\\users\\prakash.j.m\\anaconda3\\new folder\\lib\\site-packages (from nltk>=3.1->textblob) (4.64.1)\n",
      "Requirement already satisfied: colorama in c:\\users\\prakash.j.m\\anaconda3\\new folder\\lib\\site-packages (from click->nltk>=3.1->textblob) (0.4.6)\n",
      "Installing collected packages: textblob\n",
      "Successfully installed textblob-0.17.1\n"
     ]
    }
   ],
   "source": [
    "!pip install textblob "
   ]
  },
  {
   "cell_type": "code",
   "execution_count": 26,
   "id": "972e1ad9",
   "metadata": {},
   "outputs": [],
   "source": [
    "from textblob import TextBlob\n",
    "def sent_polar(text):\n",
    "    blob=TextBlob(str(text))\n",
    "    polar=blob.sentiment.polarity   #assinging polarity value based on text\n",
    "    return polar\n",
    "def sent_anal(polar):               #function to define type of review based on polarity\n",
    "    if polar>0:\n",
    "        return 'positive'\n",
    "    elif polar<0:\n",
    "        return 'negative'\n",
    "    else:\n",
    "        return 'neutral'"
   ]
  },
  {
   "cell_type": "code",
   "execution_count": 27,
   "id": "45165300",
   "metadata": {},
   "outputs": [],
   "source": [
    "df['polar']=df['reviewText'].apply(sent_polar)\n",
    "df['sentiment']=df['polar'].apply(sent_anal)"
   ]
  },
  {
   "cell_type": "code",
   "execution_count": 28,
   "id": "ebf02bef",
   "metadata": {
    "collapsed": true
   },
   "outputs": [
    {
     "data": {
      "text/html": [
       "<div>\n",
       "<style scoped>\n",
       "    .dataframe tbody tr th:only-of-type {\n",
       "        vertical-align: middle;\n",
       "    }\n",
       "\n",
       "    .dataframe tbody tr th {\n",
       "        vertical-align: top;\n",
       "    }\n",
       "\n",
       "    .dataframe thead th {\n",
       "        text-align: right;\n",
       "    }\n",
       "</style>\n",
       "<table border=\"1\" class=\"dataframe\">\n",
       "  <thead>\n",
       "    <tr style=\"text-align: right;\">\n",
       "      <th></th>\n",
       "      <th>overall</th>\n",
       "      <th>verified</th>\n",
       "      <th>reviewTime</th>\n",
       "      <th>reviewerID</th>\n",
       "      <th>asin</th>\n",
       "      <th>reviewText</th>\n",
       "      <th>polar</th>\n",
       "      <th>sentiment</th>\n",
       "    </tr>\n",
       "  </thead>\n",
       "  <tbody>\n",
       "    <tr>\n",
       "      <th>0</th>\n",
       "      <td>2</td>\n",
       "      <td>False</td>\n",
       "      <td>2016-09-22</td>\n",
       "      <td>A1IDMI31WEANAF</td>\n",
       "      <td>0020232233</td>\n",
       "      <td>come dms screen space screen absolute premium ...</td>\n",
       "      <td>-0.233333</td>\n",
       "      <td>negative</td>\n",
       "    </tr>\n",
       "    <tr>\n",
       "      <th>1</th>\n",
       "      <td>1</td>\n",
       "      <td>False</td>\n",
       "      <td>2016-09-18</td>\n",
       "      <td>A4BCEVVZ4Y3V3</td>\n",
       "      <td>0020232233</td>\n",
       "      <td>open letter galeforce unpainted miniature bad ...</td>\n",
       "      <td>-0.057275</td>\n",
       "      <td>negative</td>\n",
       "    </tr>\n",
       "    <tr>\n",
       "      <th>2</th>\n",
       "      <td>3</td>\n",
       "      <td>True</td>\n",
       "      <td>2016-09-12</td>\n",
       "      <td>A2EZ9PY1IHHBX0</td>\n",
       "      <td>0020232233</td>\n",
       "      <td>nice art nice printing panel fill general forg...</td>\n",
       "      <td>0.141779</td>\n",
       "      <td>positive</td>\n",
       "    </tr>\n",
       "    <tr>\n",
       "      <th>3</th>\n",
       "      <td>5</td>\n",
       "      <td>True</td>\n",
       "      <td>2017-03-02</td>\n",
       "      <td>A139PXTTC2LGHZ</td>\n",
       "      <td>0020232233</td>\n",
       "      <td>amazing buy buy gift new dm perfect</td>\n",
       "      <td>0.578788</td>\n",
       "      <td>positive</td>\n",
       "    </tr>\n",
       "    <tr>\n",
       "      <th>4</th>\n",
       "      <td>1</td>\n",
       "      <td>True</td>\n",
       "      <td>2017-02-08</td>\n",
       "      <td>A3IB33V29XIL8O</td>\n",
       "      <td>0020232233</td>\n",
       "      <td>review gfs previous screen completely unnecess...</td>\n",
       "      <td>-0.316667</td>\n",
       "      <td>negative</td>\n",
       "    </tr>\n",
       "    <tr>\n",
       "      <th>5</th>\n",
       "      <td>5</td>\n",
       "      <td>True</td>\n",
       "      <td>2017-01-27</td>\n",
       "      <td>A1J86V48S4KRJE</td>\n",
       "      <td>0020232233</td>\n",
       "      <td>grandson love</td>\n",
       "      <td>0.500000</td>\n",
       "      <td>positive</td>\n",
       "    </tr>\n",
       "    <tr>\n",
       "      <th>6</th>\n",
       "      <td>5</td>\n",
       "      <td>False</td>\n",
       "      <td>2017-01-02</td>\n",
       "      <td>A14J12PRBLGHF4</td>\n",
       "      <td>0020232233</td>\n",
       "      <td>buy gm screen year good relevant information n...</td>\n",
       "      <td>0.275000</td>\n",
       "      <td>positive</td>\n",
       "    </tr>\n",
       "    <tr>\n",
       "      <th>7</th>\n",
       "      <td>5</td>\n",
       "      <td>True</td>\n",
       "      <td>2016-12-17</td>\n",
       "      <td>A2UKOWP9ICU416</td>\n",
       "      <td>0020232233</td>\n",
       "      <td>come perfect condition</td>\n",
       "      <td>1.000000</td>\n",
       "      <td>positive</td>\n",
       "    </tr>\n",
       "    <tr>\n",
       "      <th>8</th>\n",
       "      <td>4</td>\n",
       "      <td>False</td>\n",
       "      <td>2016-12-15</td>\n",
       "      <td>A2ONKKDETRWT79</td>\n",
       "      <td>0020232233</td>\n",
       "      <td>great love thing dms screen actually like map ...</td>\n",
       "      <td>0.346667</td>\n",
       "      <td>positive</td>\n",
       "    </tr>\n",
       "    <tr>\n",
       "      <th>9</th>\n",
       "      <td>3</td>\n",
       "      <td>True</td>\n",
       "      <td>2016-12-09</td>\n",
       "      <td>AK9GN9KZZNTEP</td>\n",
       "      <td>0020232233</td>\n",
       "      <td>review mirror kind miss mark lose opportunity ...</td>\n",
       "      <td>0.126327</td>\n",
       "      <td>positive</td>\n",
       "    </tr>\n",
       "  </tbody>\n",
       "</table>\n",
       "</div>"
      ],
      "text/plain": [
       "   overall  verified reviewTime      reviewerID        asin  \\\n",
       "0        2     False 2016-09-22  A1IDMI31WEANAF  0020232233   \n",
       "1        1     False 2016-09-18   A4BCEVVZ4Y3V3  0020232233   \n",
       "2        3      True 2016-09-12  A2EZ9PY1IHHBX0  0020232233   \n",
       "3        5      True 2017-03-02  A139PXTTC2LGHZ  0020232233   \n",
       "4        1      True 2017-02-08  A3IB33V29XIL8O  0020232233   \n",
       "5        5      True 2017-01-27  A1J86V48S4KRJE  0020232233   \n",
       "6        5     False 2017-01-02  A14J12PRBLGHF4  0020232233   \n",
       "7        5      True 2016-12-17  A2UKOWP9ICU416  0020232233   \n",
       "8        4     False 2016-12-15  A2ONKKDETRWT79  0020232233   \n",
       "9        3      True 2016-12-09   AK9GN9KZZNTEP  0020232233   \n",
       "\n",
       "                                          reviewText     polar sentiment  \n",
       "0  come dms screen space screen absolute premium ... -0.233333  negative  \n",
       "1  open letter galeforce unpainted miniature bad ... -0.057275  negative  \n",
       "2  nice art nice printing panel fill general forg...  0.141779  positive  \n",
       "3                amazing buy buy gift new dm perfect  0.578788  positive  \n",
       "4  review gfs previous screen completely unnecess... -0.316667  negative  \n",
       "5                                      grandson love  0.500000  positive  \n",
       "6  buy gm screen year good relevant information n...  0.275000  positive  \n",
       "7                             come perfect condition  1.000000  positive  \n",
       "8  great love thing dms screen actually like map ...  0.346667  positive  \n",
       "9  review mirror kind miss mark lose opportunity ...  0.126327  positive  "
      ]
     },
     "execution_count": 28,
     "metadata": {},
     "output_type": "execute_result"
    }
   ],
   "source": [
    "# data after performing sentiment analysis\n",
    "df.head(10)"
   ]
  },
  {
   "cell_type": "code",
   "execution_count": 29,
   "id": "25f8bbab",
   "metadata": {},
   "outputs": [
    {
     "data": {
      "text/plain": [
       "positive    78801\n",
       "negative    14857\n",
       "neutral      6303\n",
       "Name: sentiment, dtype: int64"
      ]
     },
     "execution_count": 29,
     "metadata": {},
     "output_type": "execute_result"
    }
   ],
   "source": [
    "#Counting the data based on sentiment\n",
    "df['sentiment'].value_counts()"
   ]
  },
  {
   "cell_type": "code",
   "execution_count": 30,
   "id": "77a5fabb",
   "metadata": {
    "collapsed": true
   },
   "outputs": [
    {
     "data": {
      "image/png": "[encoded data removed]",
      "text/plain": [
       "<Figure size 1700x500 with 1 Axes>"
      ]
     },
     "metadata": {},
     "output_type": "display_data"
    }
   ],
   "source": [
    "import matplotlib.pyplot as plt\n",
    "\n",
    "color = ['lightgreen','red', 'yellow']\n",
    "plt.figure(figsize = (17, 5))\n",
    "plt.suptitle(\"Sentiments Distribution\")\n",
    "df['sentiment'].value_counts().plot(kind = 'pie', colors = color, autopct = '%1.1f%%')\n",
    "plt.show()"
   ]
  },
  {
   "cell_type": "markdown",
   "id": "7f82ec8e",
   "metadata": {},
   "source": [
    "From the piechart we get to know that nearly 80%  of customer having POSITIVE response\\\n",
    "NEGATIVE response is 15%\\\n",
    "NEUTRAL response is around 6.5%\n",
    "\n",
    "EXCAT VALUES OF SENTIMENT\\\n",
    "POSITIVE --> 78811\\\n",
    "NEGATIVE --> 14884\\\n",
    "NEUTRAL  --> 6266"
   ]
  },
  {
   "cell_type": "code",
   "execution_count": 31,
   "id": "314ebb32",
   "metadata": {},
   "outputs": [],
   "source": [
    "# coverting data into csv format\n",
    "df.to_csv('toys_and_games_review_cleaned.csv',index=False)"
   ]
  },
  {
   "cell_type": "code",
   "execution_count": 32,
   "id": "30c64d8b",
   "metadata": {
    "collapsed": true
   },
   "outputs": [
    {
     "data": {
      "text/html": [
       "<div>\n",
       "<style scoped>\n",
       "    .dataframe tbody tr th:only-of-type {\n",
       "        vertical-align: middle;\n",
       "    }\n",
       "\n",
       "    .dataframe tbody tr th {\n",
       "        vertical-align: top;\n",
       "    }\n",
       "\n",
       "    .dataframe thead th {\n",
       "        text-align: right;\n",
       "    }\n",
       "</style>\n",
       "<table border=\"1\" class=\"dataframe\">\n",
       "  <thead>\n",
       "    <tr style=\"text-align: right;\">\n",
       "      <th></th>\n",
       "      <th>overall</th>\n",
       "      <th>verified</th>\n",
       "      <th>reviewTime</th>\n",
       "      <th>reviewerID</th>\n",
       "      <th>asin</th>\n",
       "      <th>reviewText</th>\n",
       "      <th>polar</th>\n",
       "      <th>sentiment</th>\n",
       "    </tr>\n",
       "  </thead>\n",
       "  <tbody>\n",
       "    <tr>\n",
       "      <th>0</th>\n",
       "      <td>2</td>\n",
       "      <td>False</td>\n",
       "      <td>2016-09-22</td>\n",
       "      <td>A1IDMI31WEANAF</td>\n",
       "      <td>0020232233</td>\n",
       "      <td>come dms screen space screen absolute premium ...</td>\n",
       "      <td>-0.233333</td>\n",
       "      <td>negative</td>\n",
       "    </tr>\n",
       "    <tr>\n",
       "      <th>1</th>\n",
       "      <td>1</td>\n",
       "      <td>False</td>\n",
       "      <td>2016-09-18</td>\n",
       "      <td>A4BCEVVZ4Y3V3</td>\n",
       "      <td>0020232233</td>\n",
       "      <td>open letter galeforce unpainted miniature bad ...</td>\n",
       "      <td>-0.057275</td>\n",
       "      <td>negative</td>\n",
       "    </tr>\n",
       "    <tr>\n",
       "      <th>2</th>\n",
       "      <td>3</td>\n",
       "      <td>True</td>\n",
       "      <td>2016-09-12</td>\n",
       "      <td>A2EZ9PY1IHHBX0</td>\n",
       "      <td>0020232233</td>\n",
       "      <td>nice art nice printing panel fill general forg...</td>\n",
       "      <td>0.141779</td>\n",
       "      <td>positive</td>\n",
       "    </tr>\n",
       "    <tr>\n",
       "      <th>3</th>\n",
       "      <td>5</td>\n",
       "      <td>True</td>\n",
       "      <td>2017-03-02</td>\n",
       "      <td>A139PXTTC2LGHZ</td>\n",
       "      <td>0020232233</td>\n",
       "      <td>amazing buy buy gift new dm perfect</td>\n",
       "      <td>0.578788</td>\n",
       "      <td>positive</td>\n",
       "    </tr>\n",
       "    <tr>\n",
       "      <th>4</th>\n",
       "      <td>1</td>\n",
       "      <td>True</td>\n",
       "      <td>2017-02-08</td>\n",
       "      <td>A3IB33V29XIL8O</td>\n",
       "      <td>0020232233</td>\n",
       "      <td>review gfs previous screen completely unnecess...</td>\n",
       "      <td>-0.316667</td>\n",
       "      <td>negative</td>\n",
       "    </tr>\n",
       "    <tr>\n",
       "      <th>5</th>\n",
       "      <td>5</td>\n",
       "      <td>True</td>\n",
       "      <td>2017-01-27</td>\n",
       "      <td>A1J86V48S4KRJE</td>\n",
       "      <td>0020232233</td>\n",
       "      <td>grandson love</td>\n",
       "      <td>0.500000</td>\n",
       "      <td>positive</td>\n",
       "    </tr>\n",
       "    <tr>\n",
       "      <th>6</th>\n",
       "      <td>5</td>\n",
       "      <td>False</td>\n",
       "      <td>2017-01-02</td>\n",
       "      <td>A14J12PRBLGHF4</td>\n",
       "      <td>0020232233</td>\n",
       "      <td>buy gm screen year good relevant information n...</td>\n",
       "      <td>0.275000</td>\n",
       "      <td>positive</td>\n",
       "    </tr>\n",
       "    <tr>\n",
       "      <th>7</th>\n",
       "      <td>5</td>\n",
       "      <td>True</td>\n",
       "      <td>2016-12-17</td>\n",
       "      <td>A2UKOWP9ICU416</td>\n",
       "      <td>0020232233</td>\n",
       "      <td>come perfect condition</td>\n",
       "      <td>1.000000</td>\n",
       "      <td>positive</td>\n",
       "    </tr>\n",
       "    <tr>\n",
       "      <th>8</th>\n",
       "      <td>4</td>\n",
       "      <td>False</td>\n",
       "      <td>2016-12-15</td>\n",
       "      <td>A2ONKKDETRWT79</td>\n",
       "      <td>0020232233</td>\n",
       "      <td>great love thing dms screen actually like map ...</td>\n",
       "      <td>0.346667</td>\n",
       "      <td>positive</td>\n",
       "    </tr>\n",
       "    <tr>\n",
       "      <th>9</th>\n",
       "      <td>3</td>\n",
       "      <td>True</td>\n",
       "      <td>2016-12-09</td>\n",
       "      <td>AK9GN9KZZNTEP</td>\n",
       "      <td>0020232233</td>\n",
       "      <td>review mirror kind miss mark lose opportunity ...</td>\n",
       "      <td>0.126327</td>\n",
       "      <td>positive</td>\n",
       "    </tr>\n",
       "  </tbody>\n",
       "</table>\n",
       "</div>"
      ],
      "text/plain": [
       "   overall  verified  reviewTime      reviewerID        asin  \\\n",
       "0        2     False  2016-09-22  A1IDMI31WEANAF  0020232233   \n",
       "1        1     False  2016-09-18   A4BCEVVZ4Y3V3  0020232233   \n",
       "2        3      True  2016-09-12  A2EZ9PY1IHHBX0  0020232233   \n",
       "3        5      True  2017-03-02  A139PXTTC2LGHZ  0020232233   \n",
       "4        1      True  2017-02-08  A3IB33V29XIL8O  0020232233   \n",
       "5        5      True  2017-01-27  A1J86V48S4KRJE  0020232233   \n",
       "6        5     False  2017-01-02  A14J12PRBLGHF4  0020232233   \n",
       "7        5      True  2016-12-17  A2UKOWP9ICU416  0020232233   \n",
       "8        4     False  2016-12-15  A2ONKKDETRWT79  0020232233   \n",
       "9        3      True  2016-12-09   AK9GN9KZZNTEP  0020232233   \n",
       "\n",
       "                                          reviewText     polar sentiment  \n",
       "0  come dms screen space screen absolute premium ... -0.233333  negative  \n",
       "1  open letter galeforce unpainted miniature bad ... -0.057275  negative  \n",
       "2  nice art nice printing panel fill general forg...  0.141779  positive  \n",
       "3                amazing buy buy gift new dm perfect  0.578788  positive  \n",
       "4  review gfs previous screen completely unnecess... -0.316667  negative  \n",
       "5                                      grandson love  0.500000  positive  \n",
       "6  buy gm screen year good relevant information n...  0.275000  positive  \n",
       "7                             come perfect condition  1.000000  positive  \n",
       "8  great love thing dms screen actually like map ...  0.346667  positive  \n",
       "9  review mirror kind miss mark lose opportunity ...  0.126327  positive  "
      ]
     },
     "execution_count": 32,
     "metadata": {},
     "output_type": "execute_result"
    }
   ],
   "source": [
    "# loading the data which is converted to csv\n",
    "dfc = pd.read_csv('toys_and_games_review_cleaned.csv')\n",
    "dfc.head(10)"
   ]
  },
  {
   "cell_type": "markdown",
   "id": "b7d51f7f",
   "metadata": {},
   "source": [
    "We have performed all cleaning process ,removed stop words, did lemmatization(changing words into its base form)and performed\\\n",
    "Sentiment analysis on the review text and converted the dataset to CSv"
   ]
  },
  {
   "cell_type": "markdown",
   "id": "d0e752de",
   "metadata": {},
   "source": [
    "# META_TOYS_AND_GAMES_DATA"
   ]
  },
  {
   "cell_type": "code",
   "execution_count": 33,
   "id": "b4c2b685",
   "metadata": {
    "collapsed": true
   },
   "outputs": [
    {
     "data": {
      "text/html": [
       "<div>\n",
       "<style scoped>\n",
       "    .dataframe tbody tr th:only-of-type {\n",
       "        vertical-align: middle;\n",
       "    }\n",
       "\n",
       "    .dataframe tbody tr th {\n",
       "        vertical-align: top;\n",
       "    }\n",
       "\n",
       "    .dataframe thead th {\n",
       "        text-align: right;\n",
       "    }\n",
       "</style>\n",
       "<table border=\"1\" class=\"dataframe\">\n",
       "  <thead>\n",
       "    <tr style=\"text-align: right;\">\n",
       "      <th></th>\n",
       "      <th>brand</th>\n",
       "      <th>main_cat</th>\n",
       "      <th>price</th>\n",
       "      <th>asin</th>\n",
       "    </tr>\n",
       "  </thead>\n",
       "  <tbody>\n",
       "    <tr>\n",
       "      <th>0</th>\n",
       "      <td>Dr. Seuss</td>\n",
       "      <td>Toys &amp; Games</td>\n",
       "      <td></td>\n",
       "      <td>0000191639</td>\n",
       "    </tr>\n",
       "    <tr>\n",
       "      <th>1</th>\n",
       "      <td>Pathfinder Roleplaying Jon Brazer Productions</td>\n",
       "      <td>Toys &amp; Games</td>\n",
       "      <td>.a-box-inner{background-color:#fff}#alohaBuyBo...</td>\n",
       "      <td>0004950763</td>\n",
       "    </tr>\n",
       "    <tr>\n",
       "      <th>2</th>\n",
       "      <td>Betty Lukens</td>\n",
       "      <td>Toys &amp; Games</td>\n",
       "      <td>.a-box-inner{background-color:#fff}#alohaBuyBo...</td>\n",
       "      <td>0005069491</td>\n",
       "    </tr>\n",
       "    <tr>\n",
       "      <th>3</th>\n",
       "      <td>Dutch Blitz Games Co</td>\n",
       "      <td>Toys &amp; Games</td>\n",
       "      <td>$24.95</td>\n",
       "      <td>0004983289</td>\n",
       "    </tr>\n",
       "    <tr>\n",
       "      <th>4</th>\n",
       "      <td>Lee Publications</td>\n",
       "      <td>Toys &amp; Games</td>\n",
       "      <td>$4.92</td>\n",
       "      <td>0006466222</td>\n",
       "    </tr>\n",
       "  </tbody>\n",
       "</table>\n",
       "</div>"
      ],
      "text/plain": [
       "                                           brand      main_cat  \\\n",
       "0                                      Dr. Seuss  Toys & Games   \n",
       "1  Pathfinder Roleplaying Jon Brazer Productions  Toys & Games   \n",
       "2                                   Betty Lukens  Toys & Games   \n",
       "3                           Dutch Blitz Games Co  Toys & Games   \n",
       "4                               Lee Publications  Toys & Games   \n",
       "\n",
       "                                               price        asin  \n",
       "0                                                     0000191639  \n",
       "1  .a-box-inner{background-color:#fff}#alohaBuyBo...  0004950763  \n",
       "2  .a-box-inner{background-color:#fff}#alohaBuyBo...  0005069491  \n",
       "3                                             $24.95  0004983289  \n",
       "4                                              $4.92  0006466222  "
      ]
     },
     "execution_count": 33,
     "metadata": {},
     "output_type": "execute_result"
    }
   ],
   "source": [
    "dfm.drop(labels=['category', 'tech1', 'description', 'fit', 'title', 'also_buy', 'tech2', 'feature', 'rank', 'also_view', 'similar_item','date', 'imageURL', 'imageURLHighRes', 'details'],axis=1,inplace=True)\n",
    "dfm.head()"
   ]
  },
  {
   "cell_type": "markdown",
   "id": "7dcd15fe",
   "metadata": {},
   "source": [
    "We can see from sample that there are some irregular and null observations in the data"
   ]
  },
  {
   "cell_type": "code",
   "execution_count": 34,
   "id": "40d06016",
   "metadata": {
    "collapsed": true
   },
   "outputs": [
    {
     "name": "stdout",
     "output_type": "stream",
     "text": [
      "<class 'pandas.core.frame.DataFrame'>\n",
      "RangeIndex: 100000 entries, 0 to 99999\n",
      "Data columns (total 4 columns):\n",
      " #   Column    Non-Null Count   Dtype \n",
      "---  ------    --------------   ----- \n",
      " 0   brand     100000 non-null  object\n",
      " 1   main_cat  100000 non-null  object\n",
      " 2   price     100000 non-null  object\n",
      " 3   asin      100000 non-null  object\n",
      "dtypes: object(4)\n",
      "memory usage: 3.1+ MB\n"
     ]
    }
   ],
   "source": [
    "#Checking the data for datatype and for null values\n",
    "dfm.info()"
   ]
  },
  {
   "cell_type": "code",
   "execution_count": 35,
   "id": "ae46b305",
   "metadata": {
    "collapsed": true
   },
   "outputs": [
    {
     "data": {
      "text/plain": [
       "brand       0\n",
       "main_cat    0\n",
       "price       0\n",
       "asin        0\n",
       "dtype: int64"
      ]
     },
     "execution_count": 35,
     "metadata": {},
     "output_type": "execute_result"
    }
   ],
   "source": [
    "dfm.isnull().sum()"
   ]
  },
  {
   "cell_type": "markdown",
   "id": "279e14af",
   "metadata": {},
   "source": [
    "From the inforamation, we can see all features are in object type and null values are not present.\\\n",
    "But from sample, we can also confirm that there are some null values which can be even in string form."
   ]
  },
  {
   "cell_type": "code",
   "execution_count": 36,
   "id": "8bc5d40f",
   "metadata": {
    "collapsed": true
   },
   "outputs": [
    {
     "data": {
      "text/html": [
       "<div>\n",
       "<style scoped>\n",
       "    .dataframe tbody tr th:only-of-type {\n",
       "        vertical-align: middle;\n",
       "    }\n",
       "\n",
       "    .dataframe tbody tr th {\n",
       "        vertical-align: top;\n",
       "    }\n",
       "\n",
       "    .dataframe thead th {\n",
       "        text-align: right;\n",
       "    }\n",
       "</style>\n",
       "<table border=\"1\" class=\"dataframe\">\n",
       "  <thead>\n",
       "    <tr style=\"text-align: right;\">\n",
       "      <th></th>\n",
       "      <th>price</th>\n",
       "    </tr>\n",
       "  </thead>\n",
       "  <tbody>\n",
       "    <tr>\n",
       "      <th></th>\n",
       "      <td>47805</td>\n",
       "    </tr>\n",
       "    <tr>\n",
       "      <th>.a-box-inner{background-color:#fff}#alohaBuyBoxWidget .selected{background-color:#fffbf3;border-color:#e77600;box-shadow:0 0 3px rgba(228,121,17,.5)}#alohaBuyBoxWidget .contract-not-available{color:gray}#aloha-cart-popover .aloha-cart{height:auto;overflow:hidden}#aloha-cart-popover #aloha-cartInfo{float:left}#aloha-cart-popover #aloha-cart-details{float:right;margin-top:1em}#aloha-cart-popover .deviceContainer{width:160px;float:left;padding-right:10px;border-right:1px solid #ddd}#aloha-cart-popover li:last-child{border-right:0}#aloha-cart-popover .aloha-device-title{height:3em;overflow:hidden}#aloha-cart-popover .aloha-thumbnail-container{height:100px;margin-bottom:1em;text-align:center}#aloha-cart-popover .aloha-price-container{text-align:center}#aloha-cart-popover .aloha-thumbnail-container img{height:inherit}#aloha-cart-popover .aloha-cart{border-top:1px solid #ddd;border-bottom:1px solid #ddd}#aloha-cart-popover #aloha-cart-info{margin-right:0}#alohaBuyBoxWidget .without-contract-subheading{margin-right:0}#aloha-bb-help-nodes .aloha-bb-contract-term-heading{color:gray;font-family:arial;margin-top:.5em;text-align:center;height:.7em;border-bottom:1px solid gray;margin-bottom:1.6em}#aloha-bb-help-nodes .aloha-bb-contract-term-heading span{background-color:#fff;padding:0 10px 0 10px}#alohaAvailabilityUS_feature_div .availability a{text-decoration:none}#alohaPricingWidget a{text-decoration:none}#alohaAvailabilityUS_feature_div .availability{margin-top:-4px;margin-bottom:0}#alohaBuyBoxWidget .select-transaction-alert .a-icon-alert{top:18px;left:3px}#alohaBuyBoxWidget .select-transaction-alert .a-alert-container{padding-left:39px;width:290px}#alohaBuyBoxUS_feature_div #alohaBuyBoxWidget .contract-container .contract-term-heading a{text-decoration:none}#alohaBuyBoxUS_feature_div #alohaBuyBoxWidget .annual-contract-box .a-icon-popover{display:none}#alohaBuyBoxUS_feature_div #alohaBuyBoxWidget .contract-container .annual-contract-box{cursor:pointer;cursor:hand}#alohaBuyBoxUS_feature_div #alohaBuyBoxWidget .aloha-buybox-price{font-size:15px}#alohaBuyBoxUS_feature_div #alohaBuyBoxWidget #linkOffSection a{text-decoration:none}#alohaBuyBoxUS_feature_div .lockedUsedBuyboxContainer{padding-left:3.5%}#alohaBuyBoxUS_feature_div .alohaBuyboxUtilsNoWrap{white-space:nowrap}.hidden{display:none}.simo-no-padding{padding:0}.carrier-reviews-cell{padding-left:10px}.carrier-reviews-bordered-cell{border:1px dotted #ccc}.carrier-reviews-selected-cell{background-color:#ffd}#aloha-carrier-compatibility-modal-table-description{margin-top:10px;margin-bottom:14px}.aloha-carrier-compatibility-sortable-header.carrier{min-width:97px}.aloha-carrier-compatibility-sortable-header.compatibility{min-width:156px}.aloha-carrier-compatibility-sortable-header div{float:left}.aloha-carrier-compatibility-sortable-header i.a-icon{margin-left:10px;margin-top:4px}#aloha-carrier-compatibility-overview-table.a-bordered.a-vertical-stripes td:nth-child(2n),#aloha-carrier-compatibility-overview-table.a-bordered.a-vertical-stripes th:nth-child(2n){background-color:initial}#aloha-carrier-compatibility-modal-table.a-bordered.a-vertical-stripes td:nth-child(2n),#aloha-carrier-compatibility-modal-table.a-bordered.a-vertical-stripes th:nth-child(2n){background-color:initial}#aloha-carrier-compatibility-table.a-bordered.a-vertical-stripes th:nth-child(2n),.aloha-carrier-compatibility-table.a-bordered.a-vertical-stripes td:nth-child(2n){background-color:transparent}.aloha-carrier-compatibility-column-gray{background-color:#f6f6f6}.aloha-carrier-compatibility-modal-table-row .aloha-carrier-compatibility-tech-text,.aloha-carrier-compatibility-modal-table-row .carrier-name,.aloha-carrier-compatibility-modal-table-row .carrier-rating-summary{min-height:27px;display:inline-block;cursor:default}.aloha-carrier-compatibility-modal-table-row .aloha-carrier-compatibility-tech-text:first-line,.aloha-carrier-compatibility-modal-table-row .carrier-name:first-line,.aloha-carrier-compatibility-modal-table-row .carrier-rating-summary:first-line{line-height:27px}.aloha-carrier-compatibility-modal-table-row .aloha-carrier-compatibility-icon{margin-top:6px}.aloha-carrier-compatibility-check-icon{width:30px;height:27px;background-position:-318px -35px;background-image:url(https://images-na.ssl-images-amazon.com/images/G/01/AUIClients/AmazonUIBaseCSS-sprite_2x-8e7ef370dc28a214b3f490c9620f4ac501d5a864._V2_.png);background-repeat:no-repeat;background-size:400px 650px;display:inline-block;vertical-align:top}.aloha-carrier-compatibility-hidden{display:none}.aloha-buybox-spaced-link{margin-top:12px;margin-bottom:7px;text-align:center}.popover-tab</th>\n",
       "      <td>3433</td>\n",
       "    </tr>\n",
       "    <tr>\n",
       "      <th>$9.99</th>\n",
       "      <td>745</td>\n",
       "    </tr>\n",
       "    <tr>\n",
       "      <th>$19.99</th>\n",
       "      <td>681</td>\n",
       "    </tr>\n",
       "    <tr>\n",
       "      <th>$29.99</th>\n",
       "      <td>608</td>\n",
       "    </tr>\n",
       "  </tbody>\n",
       "</table>\n",
       "</div>"
      ],
      "text/plain": [
       "                                                    price\n",
       "                                                    47805\n",
       ".a-box-inner{background-color:#fff}#alohaBuyBox...   3433\n",
       "$9.99                                                 745\n",
       "$19.99                                                681\n",
       "$29.99                                                608"
      ]
     },
     "execution_count": 36,
     "metadata": {},
     "output_type": "execute_result"
    }
   ],
   "source": [
    "# Checking for unique values and counts in Price feature\n",
    "clean=dfm['price'].value_counts().to_frame()\n",
    "clean.head()"
   ]
  },
  {
   "cell_type": "markdown",
   "id": "0588085b",
   "metadata": {},
   "source": [
    "We can see that there are null observations and some irregular characters apart from price "
   ]
  },
  {
   "cell_type": "code",
   "execution_count": 37,
   "id": "c4e509ae",
   "metadata": {},
   "outputs": [],
   "source": [
    "# Defining a function to filter the observations matching the price format using regex match function\n",
    "import re\n",
    "import numpy as np\n",
    "def price_clean(text):\n",
    "    if re.match('\\$\\d+.\\d+',text):\n",
    "        return text                 #if matched returns the text \n",
    "    else:\n",
    "        return np.nan               #else it will return as nan values"
   ]
  },
  {
   "cell_type": "code",
   "execution_count": 38,
   "id": "2f6f4e8a",
   "metadata": {
    "collapsed": true
   },
   "outputs": [
    {
     "data": {
      "text/html": [
       "<div>\n",
       "<style scoped>\n",
       "    .dataframe tbody tr th:only-of-type {\n",
       "        vertical-align: middle;\n",
       "    }\n",
       "\n",
       "    .dataframe tbody tr th {\n",
       "        vertical-align: top;\n",
       "    }\n",
       "\n",
       "    .dataframe thead th {\n",
       "        text-align: right;\n",
       "    }\n",
       "</style>\n",
       "<table border=\"1\" class=\"dataframe\">\n",
       "  <thead>\n",
       "    <tr style=\"text-align: right;\">\n",
       "      <th></th>\n",
       "      <th>brand</th>\n",
       "      <th>main_cat</th>\n",
       "      <th>price</th>\n",
       "      <th>asin</th>\n",
       "    </tr>\n",
       "  </thead>\n",
       "  <tbody>\n",
       "    <tr>\n",
       "      <th>3</th>\n",
       "      <td>Dutch Blitz Games Co</td>\n",
       "      <td>Toys &amp; Games</td>\n",
       "      <td>$24.95</td>\n",
       "      <td>0004983289</td>\n",
       "    </tr>\n",
       "    <tr>\n",
       "      <th>4</th>\n",
       "      <td>Lee Publications</td>\n",
       "      <td>Toys &amp; Games</td>\n",
       "      <td>$4.92</td>\n",
       "      <td>0006466222</td>\n",
       "    </tr>\n",
       "    <tr>\n",
       "      <th>5</th>\n",
       "      <td>Gale Force Nine</td>\n",
       "      <td>Toys &amp; Games</td>\n",
       "      <td>$13.50</td>\n",
       "      <td>0020232233</td>\n",
       "    </tr>\n",
       "    <tr>\n",
       "      <th>9</th>\n",
       "      <td>Oxford Ort Packs</td>\n",
       "      <td>Toys &amp; Games</td>\n",
       "      <td>$35.09</td>\n",
       "      <td>019848710X</td>\n",
       "    </tr>\n",
       "    <tr>\n",
       "      <th>10</th>\n",
       "      <td>Oxford University Press</td>\n",
       "      <td>Toys &amp; Games</td>\n",
       "      <td>$28.81</td>\n",
       "      <td>0198487126</td>\n",
       "    </tr>\n",
       "  </tbody>\n",
       "</table>\n",
       "</div>"
      ],
      "text/plain": [
       "                      brand      main_cat   price        asin\n",
       "3      Dutch Blitz Games Co  Toys & Games  $24.95  0004983289\n",
       "4          Lee Publications  Toys & Games   $4.92  0006466222\n",
       "5           Gale Force Nine  Toys & Games  $13.50  0020232233\n",
       "9          Oxford Ort Packs  Toys & Games  $35.09  019848710X\n",
       "10  Oxford University Press  Toys & Games  $28.81  0198487126"
      ]
     },
     "execution_count": 38,
     "metadata": {},
     "output_type": "execute_result"
    }
   ],
   "source": [
    "# Applying the Price clean function to meta toy dataset\n",
    "dfm['price']=dfm['price'].apply(price_clean)\n",
    "dfm.dropna(inplace=True)   #dropping the null observations after clean function\n",
    "dfm.head()"
   ]
  },
  {
   "cell_type": "markdown",
   "id": "32dcaeea",
   "metadata": {},
   "source": [
    "From above we can see that price column is free from null and character strings."
   ]
  },
  {
   "cell_type": "code",
   "execution_count": 39,
   "id": "8f31e5ef",
   "metadata": {},
   "outputs": [],
   "source": [
    "# in order to remove image sources from category columns, we can pass the below function to clean such observations from data\n",
    "dfm=dfm[dfm['main_cat'].str.contains('<img')==False]   #if string contains the matching charater they are filtered out"
   ]
  },
  {
   "cell_type": "code",
   "execution_count": 40,
   "id": "da1d1c1d",
   "metadata": {},
   "outputs": [],
   "source": [
    "# The category feature may also contains some empty string as object, and the following def function can be used to clean such data\n",
    "def sp(text):\n",
    "    if len(text)==0:     #if length is zero,it returns nan values\n",
    "        return np.nan\n",
    "    else:\n",
    "        return text      #else it returns the original string"
   ]
  },
  {
   "cell_type": "code",
   "execution_count": 41,
   "id": "79d99bbb",
   "metadata": {
    "collapsed": true
   },
   "outputs": [
    {
     "data": {
      "text/html": [
       "<div>\n",
       "<style scoped>\n",
       "    .dataframe tbody tr th:only-of-type {\n",
       "        vertical-align: middle;\n",
       "    }\n",
       "\n",
       "    .dataframe tbody tr th {\n",
       "        vertical-align: top;\n",
       "    }\n",
       "\n",
       "    .dataframe thead th {\n",
       "        text-align: right;\n",
       "    }\n",
       "</style>\n",
       "<table border=\"1\" class=\"dataframe\">\n",
       "  <thead>\n",
       "    <tr style=\"text-align: right;\">\n",
       "      <th></th>\n",
       "      <th>brand</th>\n",
       "      <th>main_cat</th>\n",
       "      <th>price</th>\n",
       "      <th>asin</th>\n",
       "    </tr>\n",
       "  </thead>\n",
       "  <tbody>\n",
       "    <tr>\n",
       "      <th>0</th>\n",
       "      <td>Dutch Blitz Games Co</td>\n",
       "      <td>Toys &amp; Games</td>\n",
       "      <td>$24.95</td>\n",
       "      <td>0004983289</td>\n",
       "    </tr>\n",
       "    <tr>\n",
       "      <th>1</th>\n",
       "      <td>Lee Publications</td>\n",
       "      <td>Toys &amp; Games</td>\n",
       "      <td>$4.92</td>\n",
       "      <td>0006466222</td>\n",
       "    </tr>\n",
       "    <tr>\n",
       "      <th>2</th>\n",
       "      <td>Gale Force Nine</td>\n",
       "      <td>Toys &amp; Games</td>\n",
       "      <td>$13.50</td>\n",
       "      <td>0020232233</td>\n",
       "    </tr>\n",
       "    <tr>\n",
       "      <th>3</th>\n",
       "      <td>Oxford Ort Packs</td>\n",
       "      <td>Toys &amp; Games</td>\n",
       "      <td>$35.09</td>\n",
       "      <td>019848710X</td>\n",
       "    </tr>\n",
       "    <tr>\n",
       "      <th>4</th>\n",
       "      <td>Oxford University Press</td>\n",
       "      <td>Toys &amp; Games</td>\n",
       "      <td>$28.81</td>\n",
       "      <td>0198487126</td>\n",
       "    </tr>\n",
       "    <tr>\n",
       "      <th>5</th>\n",
       "      <td>Furyu</td>\n",
       "      <td>Toys &amp; Games</td>\n",
       "      <td>$34.99</td>\n",
       "      <td>0298772221</td>\n",
       "    </tr>\n",
       "    <tr>\n",
       "      <th>6</th>\n",
       "      <td>Amuse</td>\n",
       "      <td>Toys &amp; Games</td>\n",
       "      <td>$74.99</td>\n",
       "      <td>0298752530</td>\n",
       "    </tr>\n",
       "    <tr>\n",
       "      <th>7</th>\n",
       "      <td>Sega</td>\n",
       "      <td>Toys &amp; Games</td>\n",
       "      <td>$32.50</td>\n",
       "      <td>0298765705</td>\n",
       "    </tr>\n",
       "    <tr>\n",
       "      <th>8</th>\n",
       "      <td>Furyu</td>\n",
       "      <td>Toys &amp; Games</td>\n",
       "      <td>$15.34</td>\n",
       "      <td>0298770504</td>\n",
       "    </tr>\n",
       "    <tr>\n",
       "      <th>9</th>\n",
       "      <td>Scholastic</td>\n",
       "      <td>Office Products</td>\n",
       "      <td>$50.00</td>\n",
       "      <td>0439838649</td>\n",
       "    </tr>\n",
       "  </tbody>\n",
       "</table>\n",
       "</div>"
      ],
      "text/plain": [
       "                     brand         main_cat   price        asin\n",
       "0     Dutch Blitz Games Co     Toys & Games  $24.95  0004983289\n",
       "1         Lee Publications     Toys & Games   $4.92  0006466222\n",
       "2          Gale Force Nine     Toys & Games  $13.50  0020232233\n",
       "3         Oxford Ort Packs     Toys & Games  $35.09  019848710X\n",
       "4  Oxford University Press     Toys & Games  $28.81  0198487126\n",
       "5                    Furyu     Toys & Games  $34.99  0298772221\n",
       "6                    Amuse     Toys & Games  $74.99  0298752530\n",
       "7                     Sega     Toys & Games  $32.50  0298765705\n",
       "8                    Furyu     Toys & Games  $15.34  0298770504\n",
       "9               Scholastic  Office Products  $50.00  0439838649"
      ]
     },
     "execution_count": 41,
     "metadata": {},
     "output_type": "execute_result"
    }
   ],
   "source": [
    "# Applying the space function into category feature of meta toy data\n",
    "dfm['main_cat']=dfm['main_cat'].apply(sp)\n",
    "dfm.dropna(inplace=True)                 #dropping the nan values after space process\n",
    "dfm.reset_index(drop=True,inplace=True)  #resetting the index and storing it in original df variable\n",
    "dfm.head(10)"
   ]
  },
  {
   "cell_type": "code",
   "execution_count": 42,
   "id": "1909f6ca",
   "metadata": {},
   "outputs": [],
   "source": [
    "# Creating a function to remove dollar symbol in order to convert price feature into number format\n",
    "def dollar(text):\n",
    "    if re.match('^\\$\\d+.\\d+$',text):      #matching the string with target\n",
    "        nume=re.sub('\\$|,','',text)       # if matched substitute dollar symbol with null string\n",
    "        return float(nume)                #converting string into float\n",
    "    else:\n",
    "        return np.nan                     #if not matched return nan observation"
   ]
  },
  {
   "cell_type": "code",
   "execution_count": 43,
   "id": "6a48f3c1",
   "metadata": {},
   "outputs": [],
   "source": [
    "# Applying the dollar function to the price feature of meta Toy data\n",
    "dfm['price']=dfm['price'].apply(dollar)"
   ]
  },
  {
   "cell_type": "code",
   "execution_count": 44,
   "id": "0038190f",
   "metadata": {},
   "outputs": [
    {
     "data": {
      "text/html": [
       "<div>\n",
       "<style scoped>\n",
       "    .dataframe tbody tr th:only-of-type {\n",
       "        vertical-align: middle;\n",
       "    }\n",
       "\n",
       "    .dataframe tbody tr th {\n",
       "        vertical-align: top;\n",
       "    }\n",
       "\n",
       "    .dataframe thead th {\n",
       "        text-align: right;\n",
       "    }\n",
       "</style>\n",
       "<table border=\"1\" class=\"dataframe\">\n",
       "  <thead>\n",
       "    <tr style=\"text-align: right;\">\n",
       "      <th></th>\n",
       "      <th>brand</th>\n",
       "      <th>main_cat</th>\n",
       "      <th>price</th>\n",
       "      <th>asin</th>\n",
       "    </tr>\n",
       "  </thead>\n",
       "  <tbody>\n",
       "    <tr>\n",
       "      <th>0</th>\n",
       "      <td>Dutch Blitz Games Co</td>\n",
       "      <td>Toys &amp; Games</td>\n",
       "      <td>24.95</td>\n",
       "      <td>0004983289</td>\n",
       "    </tr>\n",
       "    <tr>\n",
       "      <th>1</th>\n",
       "      <td>Lee Publications</td>\n",
       "      <td>Toys &amp; Games</td>\n",
       "      <td>4.92</td>\n",
       "      <td>0006466222</td>\n",
       "    </tr>\n",
       "    <tr>\n",
       "      <th>2</th>\n",
       "      <td>Gale Force Nine</td>\n",
       "      <td>Toys &amp; Games</td>\n",
       "      <td>13.50</td>\n",
       "      <td>0020232233</td>\n",
       "    </tr>\n",
       "    <tr>\n",
       "      <th>3</th>\n",
       "      <td>Oxford Ort Packs</td>\n",
       "      <td>Toys &amp; Games</td>\n",
       "      <td>35.09</td>\n",
       "      <td>019848710X</td>\n",
       "    </tr>\n",
       "    <tr>\n",
       "      <th>4</th>\n",
       "      <td>Oxford University Press</td>\n",
       "      <td>Toys &amp; Games</td>\n",
       "      <td>28.81</td>\n",
       "      <td>0198487126</td>\n",
       "    </tr>\n",
       "  </tbody>\n",
       "</table>\n",
       "</div>"
      ],
      "text/plain": [
       "                     brand      main_cat  price        asin\n",
       "0     Dutch Blitz Games Co  Toys & Games  24.95  0004983289\n",
       "1         Lee Publications  Toys & Games   4.92  0006466222\n",
       "2          Gale Force Nine  Toys & Games  13.50  0020232233\n",
       "3         Oxford Ort Packs  Toys & Games  35.09  019848710X\n",
       "4  Oxford University Press  Toys & Games  28.81  0198487126"
      ]
     },
     "execution_count": 44,
     "metadata": {},
     "output_type": "execute_result"
    }
   ],
   "source": [
    "# Converting the object datatype into category type \n",
    "dfm.dropna(inplace=True)         #drop null values\n",
    "for i in dfm.select_dtypes(include='object'):     \n",
    "    dfm[i]=dfm[i].astype('category')          #calling function to convert into category datatype\n",
    "dfm.head()"
   ]
  },
  {
   "cell_type": "markdown",
   "id": "a2233c70",
   "metadata": {},
   "source": [
    "From above sample, we can see that price column does not have dollar symbol and in float type"
   ]
  },
  {
   "cell_type": "code",
   "execution_count": 45,
   "id": "b3cfc69b",
   "metadata": {
    "collapsed": true
   },
   "outputs": [
    {
     "name": "stdout",
     "output_type": "stream",
     "text": [
      "<class 'pandas.core.frame.DataFrame'>\n",
      "Int64Index: 48339 entries, 0 to 48475\n",
      "Data columns (total 4 columns):\n",
      " #   Column    Non-Null Count  Dtype   \n",
      "---  ------    --------------  -----   \n",
      " 0   brand     48339 non-null  category\n",
      " 1   main_cat  48339 non-null  category\n",
      " 2   price     48339 non-null  float64 \n",
      " 3   asin      48339 non-null  category\n",
      "dtypes: category(3), float64(1)\n",
      "memory usage: 2.6 MB\n"
     ]
    }
   ],
   "source": [
    "dfm.info()"
   ]
  },
  {
   "cell_type": "code",
   "execution_count": 46,
   "id": "54b4df43",
   "metadata": {},
   "outputs": [],
   "source": [
    "# coverting  data into csv format \n",
    "dfm.to_csv('meta_toys_cleaned.csv',index=False)"
   ]
  },
  {
   "cell_type": "code",
   "execution_count": 47,
   "id": "d09a65ad",
   "metadata": {},
   "outputs": [
    {
     "data": {
      "text/html": [
       "<div>\n",
       "<style scoped>\n",
       "    .dataframe tbody tr th:only-of-type {\n",
       "        vertical-align: middle;\n",
       "    }\n",
       "\n",
       "    .dataframe tbody tr th {\n",
       "        vertical-align: top;\n",
       "    }\n",
       "\n",
       "    .dataframe thead th {\n",
       "        text-align: right;\n",
       "    }\n",
       "</style>\n",
       "<table border=\"1\" class=\"dataframe\">\n",
       "  <thead>\n",
       "    <tr style=\"text-align: right;\">\n",
       "      <th></th>\n",
       "      <th>brand</th>\n",
       "      <th>main_cat</th>\n",
       "      <th>price</th>\n",
       "      <th>asin</th>\n",
       "    </tr>\n",
       "  </thead>\n",
       "  <tbody>\n",
       "    <tr>\n",
       "      <th>0</th>\n",
       "      <td>Dutch Blitz Games Co</td>\n",
       "      <td>Toys &amp; Games</td>\n",
       "      <td>24.95</td>\n",
       "      <td>0004983289</td>\n",
       "    </tr>\n",
       "    <tr>\n",
       "      <th>1</th>\n",
       "      <td>Lee Publications</td>\n",
       "      <td>Toys &amp; Games</td>\n",
       "      <td>4.92</td>\n",
       "      <td>0006466222</td>\n",
       "    </tr>\n",
       "    <tr>\n",
       "      <th>2</th>\n",
       "      <td>Gale Force Nine</td>\n",
       "      <td>Toys &amp; Games</td>\n",
       "      <td>13.50</td>\n",
       "      <td>0020232233</td>\n",
       "    </tr>\n",
       "    <tr>\n",
       "      <th>3</th>\n",
       "      <td>Oxford Ort Packs</td>\n",
       "      <td>Toys &amp; Games</td>\n",
       "      <td>35.09</td>\n",
       "      <td>019848710X</td>\n",
       "    </tr>\n",
       "    <tr>\n",
       "      <th>4</th>\n",
       "      <td>Oxford University Press</td>\n",
       "      <td>Toys &amp; Games</td>\n",
       "      <td>28.81</td>\n",
       "      <td>0198487126</td>\n",
       "    </tr>\n",
       "  </tbody>\n",
       "</table>\n",
       "</div>"
      ],
      "text/plain": [
       "                     brand      main_cat  price        asin\n",
       "0     Dutch Blitz Games Co  Toys & Games  24.95  0004983289\n",
       "1         Lee Publications  Toys & Games   4.92  0006466222\n",
       "2          Gale Force Nine  Toys & Games  13.50  0020232233\n",
       "3         Oxford Ort Packs  Toys & Games  35.09  019848710X\n",
       "4  Oxford University Press  Toys & Games  28.81  0198487126"
      ]
     },
     "execution_count": 47,
     "metadata": {},
     "output_type": "execute_result"
    }
   ],
   "source": [
    "# Loading the meta Toy data csv\n",
    "dfmc=pd.read_csv('meta_toys_cleaned.csv')\n",
    "dfmc.head()"
   ]
  },
  {
   "cell_type": "code",
   "execution_count": 48,
   "id": "907d754b",
   "metadata": {
    "collapsed": true
   },
   "outputs": [
    {
     "data": {
      "text/html": [
       "<div>\n",
       "<style scoped>\n",
       "    .dataframe tbody tr th:only-of-type {\n",
       "        vertical-align: middle;\n",
       "    }\n",
       "\n",
       "    .dataframe tbody tr th {\n",
       "        vertical-align: top;\n",
       "    }\n",
       "\n",
       "    .dataframe thead th {\n",
       "        text-align: right;\n",
       "    }\n",
       "</style>\n",
       "<table border=\"1\" class=\"dataframe\">\n",
       "  <thead>\n",
       "    <tr style=\"text-align: right;\">\n",
       "      <th></th>\n",
       "      <th>overall</th>\n",
       "      <th>verified</th>\n",
       "      <th>reviewTime</th>\n",
       "      <th>reviewerID</th>\n",
       "      <th>asin</th>\n",
       "      <th>reviewText</th>\n",
       "      <th>polar</th>\n",
       "      <th>sentiment</th>\n",
       "      <th>brand</th>\n",
       "      <th>main_cat</th>\n",
       "      <th>price</th>\n",
       "    </tr>\n",
       "  </thead>\n",
       "  <tbody>\n",
       "    <tr>\n",
       "      <th>0</th>\n",
       "      <td>2</td>\n",
       "      <td>False</td>\n",
       "      <td>2016-09-22</td>\n",
       "      <td>A1IDMI31WEANAF</td>\n",
       "      <td>0020232233</td>\n",
       "      <td>come dms screen space screen absolute premium ...</td>\n",
       "      <td>-0.233333</td>\n",
       "      <td>negative</td>\n",
       "      <td>Gale Force Nine</td>\n",
       "      <td>Toys &amp; Games</td>\n",
       "      <td>13.5</td>\n",
       "    </tr>\n",
       "    <tr>\n",
       "      <th>1</th>\n",
       "      <td>1</td>\n",
       "      <td>False</td>\n",
       "      <td>2016-09-18</td>\n",
       "      <td>A4BCEVVZ4Y3V3</td>\n",
       "      <td>0020232233</td>\n",
       "      <td>open letter galeforce unpainted miniature bad ...</td>\n",
       "      <td>-0.057275</td>\n",
       "      <td>negative</td>\n",
       "      <td>Gale Force Nine</td>\n",
       "      <td>Toys &amp; Games</td>\n",
       "      <td>13.5</td>\n",
       "    </tr>\n",
       "    <tr>\n",
       "      <th>2</th>\n",
       "      <td>3</td>\n",
       "      <td>True</td>\n",
       "      <td>2016-09-12</td>\n",
       "      <td>A2EZ9PY1IHHBX0</td>\n",
       "      <td>0020232233</td>\n",
       "      <td>nice art nice printing panel fill general forg...</td>\n",
       "      <td>0.141779</td>\n",
       "      <td>positive</td>\n",
       "      <td>Gale Force Nine</td>\n",
       "      <td>Toys &amp; Games</td>\n",
       "      <td>13.5</td>\n",
       "    </tr>\n",
       "    <tr>\n",
       "      <th>3</th>\n",
       "      <td>5</td>\n",
       "      <td>True</td>\n",
       "      <td>2017-03-02</td>\n",
       "      <td>A139PXTTC2LGHZ</td>\n",
       "      <td>0020232233</td>\n",
       "      <td>amazing buy buy gift new dm perfect</td>\n",
       "      <td>0.578788</td>\n",
       "      <td>positive</td>\n",
       "      <td>Gale Force Nine</td>\n",
       "      <td>Toys &amp; Games</td>\n",
       "      <td>13.5</td>\n",
       "    </tr>\n",
       "    <tr>\n",
       "      <th>4</th>\n",
       "      <td>1</td>\n",
       "      <td>True</td>\n",
       "      <td>2017-02-08</td>\n",
       "      <td>A3IB33V29XIL8O</td>\n",
       "      <td>0020232233</td>\n",
       "      <td>review gfs previous screen completely unnecess...</td>\n",
       "      <td>-0.316667</td>\n",
       "      <td>negative</td>\n",
       "      <td>Gale Force Nine</td>\n",
       "      <td>Toys &amp; Games</td>\n",
       "      <td>13.5</td>\n",
       "    </tr>\n",
       "  </tbody>\n",
       "</table>\n",
       "</div>"
      ],
      "text/plain": [
       "   overall  verified  reviewTime      reviewerID        asin  \\\n",
       "0        2     False  2016-09-22  A1IDMI31WEANAF  0020232233   \n",
       "1        1     False  2016-09-18   A4BCEVVZ4Y3V3  0020232233   \n",
       "2        3      True  2016-09-12  A2EZ9PY1IHHBX0  0020232233   \n",
       "3        5      True  2017-03-02  A139PXTTC2LGHZ  0020232233   \n",
       "4        1      True  2017-02-08  A3IB33V29XIL8O  0020232233   \n",
       "\n",
       "                                          reviewText     polar sentiment  \\\n",
       "0  come dms screen space screen absolute premium ... -0.233333  negative   \n",
       "1  open letter galeforce unpainted miniature bad ... -0.057275  negative   \n",
       "2  nice art nice printing panel fill general forg...  0.141779  positive   \n",
       "3                amazing buy buy gift new dm perfect  0.578788  positive   \n",
       "4  review gfs previous screen completely unnecess... -0.316667  negative   \n",
       "\n",
       "             brand      main_cat  price  \n",
       "0  Gale Force Nine  Toys & Games   13.5  \n",
       "1  Gale Force Nine  Toys & Games   13.5  \n",
       "2  Gale Force Nine  Toys & Games   13.5  \n",
       "3  Gale Force Nine  Toys & Games   13.5  \n",
       "4  Gale Force Nine  Toys & Games   13.5  "
      ]
     },
     "execution_count": 48,
     "metadata": {},
     "output_type": "execute_result"
    }
   ],
   "source": [
    "# Merging the review and meta data of Toy data to get final dataset for analysis\n",
    "toy_df=pd.merge(left=dfc,right=dfmc,on='asin') #merging the review and meta data as a single data\n",
    "toy_df.head()"
   ]
  },
  {
   "cell_type": "code",
   "execution_count": 49,
   "id": "952002f4",
   "metadata": {},
   "outputs": [],
   "source": [
    "# After merging we are looking for null values and dropping them\n",
    "toy_df.dropna(inplace=True)\n",
    "toy_df.reset_index(drop=True,inplace=True)"
   ]
  },
  {
   "cell_type": "code",
   "execution_count": 50,
   "id": "8cad9fd8",
   "metadata": {},
   "outputs": [],
   "source": [
    "# Writing the final processed data into csv format for future analysis part\n",
    "toy_df.to_csv('final_toy_review.csv',index=False)"
   ]
  },
  {
   "cell_type": "code",
   "execution_count": 19,
   "id": "93b8fcc1",
   "metadata": {},
   "outputs": [],
   "source": [
    "import pandas as pd\n",
    "import re\n",
    "import numpy as np\n",
    "import matplotlib.pyplot as plt\n",
    "import spacy"
   ]
  },
  {
   "cell_type": "code",
   "execution_count": 52,
   "id": "b2b25fae",
   "metadata": {},
   "outputs": [],
   "source": [
    "# DATA ANALYSIS"
   ]
  },
  {
   "cell_type": "code",
   "execution_count": 20,
   "id": "6f965603",
   "metadata": {},
   "outputs": [
    {
     "data": {
      "text/html": [
       "<div>\n",
       "<style scoped>\n",
       "    .dataframe tbody tr th:only-of-type {\n",
       "        vertical-align: middle;\n",
       "    }\n",
       "\n",
       "    .dataframe tbody tr th {\n",
       "        vertical-align: top;\n",
       "    }\n",
       "\n",
       "    .dataframe thead th {\n",
       "        text-align: right;\n",
       "    }\n",
       "</style>\n",
       "<table border=\"1\" class=\"dataframe\">\n",
       "  <thead>\n",
       "    <tr style=\"text-align: right;\">\n",
       "      <th></th>\n",
       "      <th>overall</th>\n",
       "      <th>verified</th>\n",
       "      <th>reviewTime</th>\n",
       "      <th>reviewerID</th>\n",
       "      <th>asin</th>\n",
       "      <th>reviewText</th>\n",
       "      <th>polar</th>\n",
       "      <th>sentiment</th>\n",
       "      <th>brand</th>\n",
       "      <th>main_cat</th>\n",
       "      <th>price</th>\n",
       "    </tr>\n",
       "  </thead>\n",
       "  <tbody>\n",
       "    <tr>\n",
       "      <th>0</th>\n",
       "      <td>2</td>\n",
       "      <td>False</td>\n",
       "      <td>2016-09-22</td>\n",
       "      <td>A1IDMI31WEANAF</td>\n",
       "      <td>0020232233</td>\n",
       "      <td>come dms screen space screen absolute premium ...</td>\n",
       "      <td>-0.233333</td>\n",
       "      <td>negative</td>\n",
       "      <td>Gale Force Nine</td>\n",
       "      <td>Toys &amp; Games</td>\n",
       "      <td>13.5</td>\n",
       "    </tr>\n",
       "    <tr>\n",
       "      <th>1</th>\n",
       "      <td>1</td>\n",
       "      <td>False</td>\n",
       "      <td>2016-09-18</td>\n",
       "      <td>A4BCEVVZ4Y3V3</td>\n",
       "      <td>0020232233</td>\n",
       "      <td>open letter galeforce unpainted miniature bad ...</td>\n",
       "      <td>-0.057275</td>\n",
       "      <td>negative</td>\n",
       "      <td>Gale Force Nine</td>\n",
       "      <td>Toys &amp; Games</td>\n",
       "      <td>13.5</td>\n",
       "    </tr>\n",
       "    <tr>\n",
       "      <th>2</th>\n",
       "      <td>3</td>\n",
       "      <td>True</td>\n",
       "      <td>2016-09-12</td>\n",
       "      <td>A2EZ9PY1IHHBX0</td>\n",
       "      <td>0020232233</td>\n",
       "      <td>nice art nice printing panel fill general forg...</td>\n",
       "      <td>0.141779</td>\n",
       "      <td>positive</td>\n",
       "      <td>Gale Force Nine</td>\n",
       "      <td>Toys &amp; Games</td>\n",
       "      <td>13.5</td>\n",
       "    </tr>\n",
       "    <tr>\n",
       "      <th>3</th>\n",
       "      <td>5</td>\n",
       "      <td>True</td>\n",
       "      <td>2017-03-02</td>\n",
       "      <td>A139PXTTC2LGHZ</td>\n",
       "      <td>0020232233</td>\n",
       "      <td>amazing buy buy gift new dm perfect</td>\n",
       "      <td>0.578788</td>\n",
       "      <td>positive</td>\n",
       "      <td>Gale Force Nine</td>\n",
       "      <td>Toys &amp; Games</td>\n",
       "      <td>13.5</td>\n",
       "    </tr>\n",
       "    <tr>\n",
       "      <th>4</th>\n",
       "      <td>1</td>\n",
       "      <td>True</td>\n",
       "      <td>2017-02-08</td>\n",
       "      <td>A3IB33V29XIL8O</td>\n",
       "      <td>0020232233</td>\n",
       "      <td>review gfs previous screen completely unnecess...</td>\n",
       "      <td>-0.316667</td>\n",
       "      <td>negative</td>\n",
       "      <td>Gale Force Nine</td>\n",
       "      <td>Toys &amp; Games</td>\n",
       "      <td>13.5</td>\n",
       "    </tr>\n",
       "  </tbody>\n",
       "</table>\n",
       "</div>"
      ],
      "text/plain": [
       "   overall  verified  reviewTime      reviewerID        asin  \\\n",
       "0        2     False  2016-09-22  A1IDMI31WEANAF  0020232233   \n",
       "1        1     False  2016-09-18   A4BCEVVZ4Y3V3  0020232233   \n",
       "2        3      True  2016-09-12  A2EZ9PY1IHHBX0  0020232233   \n",
       "3        5      True  2017-03-02  A139PXTTC2LGHZ  0020232233   \n",
       "4        1      True  2017-02-08  A3IB33V29XIL8O  0020232233   \n",
       "\n",
       "                                          reviewText     polar sentiment  \\\n",
       "0  come dms screen space screen absolute premium ... -0.233333  negative   \n",
       "1  open letter galeforce unpainted miniature bad ... -0.057275  negative   \n",
       "2  nice art nice printing panel fill general forg...  0.141779  positive   \n",
       "3                amazing buy buy gift new dm perfect  0.578788  positive   \n",
       "4  review gfs previous screen completely unnecess... -0.316667  negative   \n",
       "\n",
       "             brand      main_cat  price  \n",
       "0  Gale Force Nine  Toys & Games   13.5  \n",
       "1  Gale Force Nine  Toys & Games   13.5  \n",
       "2  Gale Force Nine  Toys & Games   13.5  \n",
       "3  Gale Force Nine  Toys & Games   13.5  \n",
       "4  Gale Force Nine  Toys & Games   13.5  "
      ]
     },
     "execution_count": 20,
     "metadata": {},
     "output_type": "execute_result"
    }
   ],
   "source": [
    "# Loading the Toy dataset\n",
    "toy_df=pd.read_csv('final_toy_review.csv')\n",
    "toy_df.head()"
   ]
  },
  {
   "cell_type": "code",
   "execution_count": 54,
   "id": "4e2a8537",
   "metadata": {},
   "outputs": [
    {
     "data": {
      "text/plain": [
       "245"
      ]
     },
     "execution_count": 54,
     "metadata": {},
     "output_type": "execute_result"
    }
   ],
   "source": [
    "len(toy_df['brand'].unique())"
   ]
  },
  {
   "cell_type": "code",
   "execution_count": 55,
   "id": "777290d8",
   "metadata": {},
   "outputs": [
    {
     "data": {
      "text/plain": [
       "10"
      ]
     },
     "execution_count": 55,
     "metadata": {},
     "output_type": "execute_result"
    }
   ],
   "source": [
    "len(toy_df['main_cat'].unique())"
   ]
  },
  {
   "cell_type": "code",
   "execution_count": 56,
   "id": "3c01fcff",
   "metadata": {},
   "outputs": [],
   "source": [
    "import seaborn as sb"
   ]
  },
  {
   "cell_type": "markdown",
   "id": "3068da35",
   "metadata": {},
   "source": [
    "# Exploratory Data Analysis"
   ]
  },
  {
   "cell_type": "markdown",
   "id": "9a932b68",
   "metadata": {},
   "source": [
    "## 1.What is the average rating based on various sentiment?"
   ]
  },
  {
   "cell_type": "code",
   "execution_count": 57,
   "id": "3187524e",
   "metadata": {
    "collapsed": true
   },
   "outputs": [
    {
     "data": {
      "image/png": "[encoded data removed]",
      "text/plain": [
       "<Figure size 1500x400 with 1 Axes>"
      ]
     },
     "metadata": {},
     "output_type": "display_data"
    }
   ],
   "source": [
    "plt.figure(figsize=(15,4))\n",
    "toy_df.groupby('sentiment')['overall'].mean().plot(kind='bar')\n",
    "plt.title('Average rating vs sentiment')\n",
    "plt.ylabel('average rating')\n",
    "plt.show()"
   ]
  },
  {
   "cell_type": "markdown",
   "id": "06f80f6c",
   "metadata": {},
   "source": [
    "### From the graph we can see that rating positive response with higher rating are more compared to neutral,where negative response is less with low rating"
   ]
  },
  {
   "cell_type": "markdown",
   "id": "8f9ae593",
   "metadata": {},
   "source": [
    "## 2.Does the sentiment and rating get affected by the price of the product?"
   ]
  },
  {
   "cell_type": "code",
   "execution_count": 58,
   "id": "2e715261",
   "metadata": {
    "collapsed": true
   },
   "outputs": [
    {
     "data": {
      "image/png": "[encoded data removed]",
      "text/plain": [
       "<Figure size 1500x400 with 1 Axes>"
      ]
     },
     "metadata": {},
     "output_type": "display_data"
    }
   ],
   "source": [
    "plt.figure(figsize=(15,4))\n",
    "sb.barplot(hue=toy_df['overall'],x=toy_df['sentiment'],y=toy_df['price'])\n",
    "plt.title('Distribution of price among sentiment in relation to rating')\n",
    "plt.show()"
   ]
  },
  {
   "cell_type": "markdown",
   "id": "a028dc35",
   "metadata": {},
   "source": [
    "###  From above chart, we can interpret that overall price increase happens as the rating increases irrespective of sentiment,The highest average price is seen in negative sentiment with rating 4. This maybe a case where the customer feel that the product quality is good but in terms of price he is not satisfiesd with the price to quality aspect. It may be the case in whole negative response from customers."
   ]
  },
  {
   "cell_type": "markdown",
   "id": "ca13238f",
   "metadata": {},
   "source": [
    "## 3.What would be the proportion of customers in terms of verified or not ?"
   ]
  },
  {
   "cell_type": "code",
   "execution_count": 59,
   "id": "a6ad87db",
   "metadata": {
    "collapsed": true
   },
   "outputs": [
    {
     "data": {
      "image/png": "[encoded data removed]",
      "text/plain": [
       "<Figure size 1700x500 with 1 Axes>"
      ]
     },
     "metadata": {},
     "output_type": "display_data"
    }
   ],
   "source": [
    "import matplotlib.pyplot as plt\n",
    "\n",
    "color = ['lightgreen','red']\n",
    "plt.figure(figsize = (17, 5))\n",
    "plt.suptitle(\"ratio of verified and non-verified customers\")\n",
    "toy_df['verified'].value_counts().plot(kind = 'pie', colors = color, autopct = '%1.1f%%')\n",
    "plt.show()"
   ]
  },
  {
   "cell_type": "markdown",
   "id": "d9210ccf",
   "metadata": {},
   "source": [
    "### we must take into account is that nealy 14.5% customers are not verified customers out of which majority could be fake customers and their ratings and sentiment may affect the information about real feedback from the customers"
   ]
  },
  {
   "cell_type": "markdown",
   "id": "e2bd4458",
   "metadata": {},
   "source": [
    "## 4.which is the brand having more number of reviews?"
   ]
  },
  {
   "cell_type": "code",
   "execution_count": 60,
   "id": "2313723a",
   "metadata": {
    "collapsed": true
   },
   "outputs": [
    {
     "data": {
      "image/png": "[encoded data removed]",
      "text/plain": [
       "<Figure size 1000x300 with 1 Axes>"
      ]
     },
     "metadata": {},
     "output_type": "display_data"
    }
   ],
   "source": [
    "#Distribution of brand in terms of number of units sold under each brand\n",
    "plt.figure(figsize=(10,3))\n",
    "toy_df['brand'].value_counts().head(20).plot(kind='bar')\n",
    "plt.title('Brand wise review figures')\n",
    "plt.xlabel('Brand')\n",
    "plt.ylabel('count of reviews')\n",
    "plt.show()"
   ]
  },
  {
   "cell_type": "markdown",
   "id": "763bc058",
   "metadata": {},
   "source": [
    "### In terms of number of reviews Hasbro got  more num. of reviews  which also means there product are sold much."
   ]
  },
  {
   "cell_type": "markdown",
   "id": "a0a06a4f",
   "metadata": {},
   "source": [
    "## 5. which cateogary is having more negative response?"
   ]
  },
  {
   "cell_type": "code",
   "execution_count": 61,
   "id": "f4831cd4",
   "metadata": {
    "collapsed": true
   },
   "outputs": [
    {
     "data": {
      "image/png": "[encoded data removed]",
      "text/plain": [
       "<Figure size 2000x500 with 1 Axes>"
      ]
     },
     "metadata": {},
     "output_type": "display_data"
    }
   ],
   "source": [
    "plt.figure(figsize=(20,5))\n",
    "sb.countplot(data=toy_df,x='main_cat',hue='sentiment',palette='summer_r')\n",
    "plt.show()"
   ]
  },
  {
   "cell_type": "markdown",
   "id": "eaf1b4e1",
   "metadata": {},
   "source": [
    "### Toys and Games is having more number of Negative response.its also shows that apart from Toys and Games the enteries of other cateogary might be less compared to toys and games"
   ]
  },
  {
   "cell_type": "markdown",
   "id": "d38ff158",
   "metadata": {},
   "source": [
    "## 6.which category has more negative response respect to polar value?"
   ]
  },
  {
   "cell_type": "code",
   "execution_count": 62,
   "id": "0bed29cc",
   "metadata": {
    "collapsed": true
   },
   "outputs": [
    {
     "data": {
      "image/png": "[encoded data removed]",
      "text/plain": [
       "<Figure size 2000x500 with 1 Axes>"
      ]
     },
     "metadata": {},
     "output_type": "display_data"
    }
   ],
   "source": [
    "plt.figure(figsize=(20,5))\n",
    "sb.barplot(hue=toy_df['sentiment'],x=toy_df['main_cat'],y=toy_df['polar'])\n",
    "plt.title('Distribution of polar among cateogary in relation to response of customer')\n",
    "plt.show()"
   ]
  },
  {
   "cell_type": "markdown",
   "id": "4ef54083",
   "metadata": {},
   "source": [
    "### From the observation we get to know that Amazon Home category has high negative response respect to polar value "
   ]
  },
  {
   "cell_type": "markdown",
   "id": "a52f6fde",
   "metadata": {},
   "source": [
    "# Time series modelling on Toy dataset"
   ]
  },
  {
   "cell_type": "code",
   "execution_count": 3,
   "id": "796ae021",
   "metadata": {},
   "outputs": [],
   "source": [
    "#Importing the required libraries\n",
    "from statsmodels.tsa.seasonal import seasonal_decompose\n",
    "from statsmodels.tsa.stattools import adfuller\n",
    "from statsmodels.graphics.tsaplots import plot_acf,plot_pacf\n",
    "from statsmodels.tsa.arima.model import ARIMA\n",
    "from statsmodels.tsa.statespace.sarimax import SARIMAX\n",
    "import statsmodels.api as sm"
   ]
  },
  {
   "cell_type": "markdown",
   "id": "dd60958a",
   "metadata": {},
   "source": [
    "### Modelling for positive sentiment through time"
   ]
  },
  {
   "cell_type": "code",
   "execution_count": 35,
   "id": "a938462f",
   "metadata": {},
   "outputs": [
    {
     "data": {
      "text/html": [
       "<div>\n",
       "<style scoped>\n",
       "    .dataframe tbody tr th:only-of-type {\n",
       "        vertical-align: middle;\n",
       "    }\n",
       "\n",
       "    .dataframe tbody tr th {\n",
       "        vertical-align: top;\n",
       "    }\n",
       "\n",
       "    .dataframe thead th {\n",
       "        text-align: right;\n",
       "    }\n",
       "</style>\n",
       "<table border=\"1\" class=\"dataframe\">\n",
       "  <thead>\n",
       "    <tr style=\"text-align: right;\">\n",
       "      <th></th>\n",
       "      <th>polar</th>\n",
       "    </tr>\n",
       "    <tr>\n",
       "      <th>reviewTime</th>\n",
       "      <th></th>\n",
       "    </tr>\n",
       "  </thead>\n",
       "  <tbody>\n",
       "    <tr>\n",
       "      <th>2016-09-12</th>\n",
       "      <td>0.141779</td>\n",
       "    </tr>\n",
       "    <tr>\n",
       "      <th>2017-03-02</th>\n",
       "      <td>0.578788</td>\n",
       "    </tr>\n",
       "    <tr>\n",
       "      <th>2017-01-27</th>\n",
       "      <td>0.500000</td>\n",
       "    </tr>\n",
       "    <tr>\n",
       "      <th>2017-01-02</th>\n",
       "      <td>0.275000</td>\n",
       "    </tr>\n",
       "    <tr>\n",
       "      <th>2016-12-17</th>\n",
       "      <td>1.000000</td>\n",
       "    </tr>\n",
       "  </tbody>\n",
       "</table>\n",
       "</div>"
      ],
      "text/plain": [
       "               polar\n",
       "reviewTime          \n",
       "2016-09-12  0.141779\n",
       "2017-03-02  0.578788\n",
       "2017-01-27  0.500000\n",
       "2017-01-02  0.275000\n",
       "2016-12-17  1.000000"
      ]
     },
     "execution_count": 35,
     "metadata": {},
     "output_type": "execute_result"
    }
   ],
   "source": [
    "#Creating a dataset with polarity and review time from main data where sentiment is positive\n",
    "pos_toy=toy_df[toy_df['sentiment']=='positive'][['reviewTime','polar']]\n",
    "\n",
    "#Converting the date feature into standard datetime feature\n",
    "pos_toy['reviewTime'] = pd.to_datetime(pos_toy['reviewTime'], dayfirst = True)\n",
    "\n",
    "#Setting the datetime feature as index of data \n",
    "pos_toy.set_index(\"reviewTime\", inplace=True)\n",
    "pos_toy.head()"
   ]
  },
  {
   "cell_type": "code",
   "execution_count": 36,
   "id": "272692c4",
   "metadata": {
    "collapsed": true
   },
   "outputs": [
    {
     "data": {
      "text/html": [
       "<div>\n",
       "<style scoped>\n",
       "    .dataframe tbody tr th:only-of-type {\n",
       "        vertical-align: middle;\n",
       "    }\n",
       "\n",
       "    .dataframe tbody tr th {\n",
       "        vertical-align: top;\n",
       "    }\n",
       "\n",
       "    .dataframe thead th {\n",
       "        text-align: right;\n",
       "    }\n",
       "</style>\n",
       "<table border=\"1\" class=\"dataframe\">\n",
       "  <thead>\n",
       "    <tr style=\"text-align: right;\">\n",
       "      <th></th>\n",
       "      <th>polar</th>\n",
       "    </tr>\n",
       "    <tr>\n",
       "      <th>reviewTime</th>\n",
       "      <th></th>\n",
       "    </tr>\n",
       "  </thead>\n",
       "  <tbody>\n",
       "    <tr>\n",
       "      <th>1999-10-31</th>\n",
       "      <td>0.122446</td>\n",
       "    </tr>\n",
       "    <tr>\n",
       "      <th>1999-11-30</th>\n",
       "      <td>NaN</td>\n",
       "    </tr>\n",
       "    <tr>\n",
       "      <th>1999-12-31</th>\n",
       "      <td>0.154762</td>\n",
       "    </tr>\n",
       "    <tr>\n",
       "      <th>2000-01-31</th>\n",
       "      <td>NaN</td>\n",
       "    </tr>\n",
       "    <tr>\n",
       "      <th>2000-02-29</th>\n",
       "      <td>NaN</td>\n",
       "    </tr>\n",
       "  </tbody>\n",
       "</table>\n",
       "</div>"
      ],
      "text/plain": [
       "               polar\n",
       "reviewTime          \n",
       "1999-10-31  0.122446\n",
       "1999-11-30       NaN\n",
       "1999-12-31  0.154762\n",
       "2000-01-31       NaN\n",
       "2000-02-29       NaN"
      ]
     },
     "execution_count": 36,
     "metadata": {},
     "output_type": "execute_result"
    }
   ],
   "source": [
    "#Resampling data from daily data to monthly average data\n",
    "pos_toy=pos_toy.resample('M').mean()\n",
    "pos_toy.head()"
   ]
  },
  {
   "cell_type": "markdown",
   "id": "38d72d4a",
   "metadata": {},
   "source": [
    "### We can see that in the above data there are many nan values and we need to impute data to eliminate nan values"
   ]
  },
  {
   "cell_type": "code",
   "execution_count": 37,
   "id": "99431da2",
   "metadata": {
    "collapsed": true
   },
   "outputs": [
    {
     "data": {
      "text/html": [
       "<div>\n",
       "<style scoped>\n",
       "    .dataframe tbody tr th:only-of-type {\n",
       "        vertical-align: middle;\n",
       "    }\n",
       "\n",
       "    .dataframe tbody tr th {\n",
       "        vertical-align: top;\n",
       "    }\n",
       "\n",
       "    .dataframe thead th {\n",
       "        text-align: right;\n",
       "    }\n",
       "</style>\n",
       "<table border=\"1\" class=\"dataframe\">\n",
       "  <thead>\n",
       "    <tr style=\"text-align: right;\">\n",
       "      <th></th>\n",
       "      <th>polar</th>\n",
       "    </tr>\n",
       "    <tr>\n",
       "      <th>reviewTime</th>\n",
       "      <th></th>\n",
       "    </tr>\n",
       "  </thead>\n",
       "  <tbody>\n",
       "    <tr>\n",
       "      <th>1999-10-31</th>\n",
       "      <td>0.122446</td>\n",
       "    </tr>\n",
       "    <tr>\n",
       "      <th>1999-11-30</th>\n",
       "      <td>0.138339</td>\n",
       "    </tr>\n",
       "    <tr>\n",
       "      <th>1999-12-31</th>\n",
       "      <td>0.154762</td>\n",
       "    </tr>\n",
       "    <tr>\n",
       "      <th>2000-01-31</th>\n",
       "      <td>0.155720</td>\n",
       "    </tr>\n",
       "    <tr>\n",
       "      <th>2000-02-29</th>\n",
       "      <td>0.156617</td>\n",
       "    </tr>\n",
       "  </tbody>\n",
       "</table>\n",
       "</div>"
      ],
      "text/plain": [
       "               polar\n",
       "reviewTime          \n",
       "1999-10-31  0.122446\n",
       "1999-11-30  0.138339\n",
       "1999-12-31  0.154762\n",
       "2000-01-31  0.155720\n",
       "2000-02-29  0.156617"
      ]
     },
     "execution_count": 37,
     "metadata": {},
     "output_type": "execute_result"
    }
   ],
   "source": [
    "#imputation of missing data by interpolation method with time as ffactor\n",
    "pos_toy['polar'].interpolate(method='time',inplace=True)\n",
    "pos_toy.head()"
   ]
  },
  {
   "cell_type": "markdown",
   "id": "fa9bf58f",
   "metadata": {},
   "source": [
    "## Decomposing the data into components of time series to analyse the data"
   ]
  },
  {
   "cell_type": "code",
   "execution_count": 38,
   "id": "5c4f5d69",
   "metadata": {
    "collapsed": true
   },
   "outputs": [
    {
     "data": {
      "image/png": "[encoded data removed]",
      "text/plain": [
       "<Figure size 640x480 with 4 Axes>"
      ]
     },
     "metadata": {},
     "output_type": "display_data"
    }
   ],
   "source": [
    "seasonal_decompose(pos_toy).plot()\n",
    "plt.show()"
   ]
  },
  {
   "cell_type": "markdown",
   "id": "9b8c066a",
   "metadata": {},
   "source": [
    "### From the above plot we can see that there is a upward trend in the data ,seasonal components show us that for each year at the same time there is a same pattern"
   ]
  },
  {
   "cell_type": "code",
   "execution_count": 39,
   "id": "514e5e07",
   "metadata": {},
   "outputs": [
    {
     "name": "stdout",
     "output_type": "stream",
     "text": [
      "data is stationary\n",
      "pvalue is :  0.021482\n"
     ]
    }
   ],
   "source": [
    "#to check stationarity\n",
    "def checkstationary(data):\n",
    "    pvalue = adfuller(data)[1]\n",
    "    if (pvalue>0.05):\n",
    "        print(\"data is not stationary\")\n",
    "    else:\n",
    "        print(\"data is stationary\")\n",
    "        print(\"pvalue is : \",format(float(pvalue),'f'))\n",
    "        \n",
    "checkstationary(pos_toy)"
   ]
  },
  {
   "cell_type": "code",
   "execution_count": 40,
   "id": "6250f563",
   "metadata": {
    "collapsed": true
   },
   "outputs": [
    {
     "data": {
      "image/png": "[encoded data removed]",
      "text/plain": [
       "<Figure size 1500x600 with 2 Axes>"
      ]
     },
     "metadata": {},
     "output_type": "display_data"
    }
   ],
   "source": [
    "# After getting stationary data, now we apply pacf and acf plotting from statsmodels library in form of lollipop plot\n",
    "\n",
    "#plotting acf and pacf\n",
    "fig = plt.figure(figsize=(15, 6))\n",
    "\n",
    "# Show ACF\n",
    "ax1 = fig.add_subplot(121)\n",
    "plot_acf(pos_toy, lags=40, ax=ax1)\n",
    "\n",
    "# Show PACF\n",
    "ax2 = fig.add_subplot(122)\n",
    "plot_pacf(pos_toy, lags=40, ax=ax2)\n",
    "\n",
    "plt.tight_layout()"
   ]
  },
  {
   "cell_type": "markdown",
   "id": "9d29e191",
   "metadata": {},
   "source": [
    "### From the graph we get pacf(p) is 6 and acf(q) is 19 d is 0"
   ]
  },
  {
   "cell_type": "code",
   "execution_count": 44,
   "id": "a683b4ae",
   "metadata": {},
   "outputs": [
    {
     "data": {
      "text/plain": [
       "(224, 1)"
      ]
     },
     "execution_count": 44,
     "metadata": {},
     "output_type": "execute_result"
    }
   ],
   "source": [
    "pos_toy.shape "
   ]
  },
  {
   "cell_type": "code",
   "execution_count": 41,
   "id": "f2cfbf1a",
   "metadata": {},
   "outputs": [],
   "source": [
    "import warnings\n",
    "warnings.simplefilter(\"ignore\")\n",
    "from statsmodels.tools.sm_exceptions import ConvergenceWarning\n",
    "warnings.simplefilter(\"ignore\", ConvergenceWarning)"
   ]
  },
  {
   "cell_type": "code",
   "execution_count": 52,
   "id": "1552070d",
   "metadata": {},
   "outputs": [],
   "source": [
    "p=6\n",
    "q=19\n",
    "d=0"
   ]
  },
  {
   "cell_type": "markdown",
   "id": "9eadbffe",
   "metadata": {},
   "source": [
    "# Arma model"
   ]
  },
  {
   "cell_type": "code",
   "execution_count": 56,
   "id": "d77c6365",
   "metadata": {},
   "outputs": [
    {
     "name": "stdout",
     "output_type": "stream",
     "text": [
      "p is  3 q is  17 AIC is -761.291505352479\n"
     ]
    }
   ],
   "source": [
    "for p in range(0,7):\n",
    "    for q in range(0,19):\n",
    "        model=ARIMA(pos_toy, order = (6,0,18),seasonal_order = (2,0,2,40)) # seasonal order = (P,D,Q,s)\n",
    "        selection = model.fit()\n",
    "        print(\"p is \",p,\"q is \",q, \"AIC is\", selection.aic)\n"
   ]
  },
  {
   "cell_type": "code",
   "execution_count": 57,
   "id": "1aef67ad",
   "metadata": {
    "collapsed": true
   },
   "outputs": [
    {
     "name": "stdout",
     "output_type": "stream",
     "text": [
      "                                       SARIMAX Results                                        \n",
      "==============================================================================================\n",
      "Dep. Variable:                                  polar   No. Observations:                  224\n",
      "Model:             ARIMA(6, 0, 19)x(2, 0, [1, 2], 40)   Log Likelihood                 411.646\n",
      "Date:                                Mon, 03 Jul 2023   AIC                           -761.292\n",
      "Time:                                        17:13:31   BIC                           -655.530\n",
      "Sample:                                    10-31-1999   HQIC                          -718.601\n",
      "                                         - 05-31-2018                                         \n",
      "Covariance Type:                                  opg                                         \n",
      "==============================================================================\n",
      "                 coef    std err          z      P>|z|      [0.025      0.975]\n",
      "------------------------------------------------------------------------------\n",
      "const          0.2650      0.120      2.210      0.027       0.030       0.500\n",
      "ar.L1          0.5662      7.316      0.077      0.938     -13.773      14.905\n",
      "ar.L2          0.5013      2.525      0.198      0.843      -4.449       5.451\n",
      "ar.L3         -0.0987      5.128     -0.019      0.985     -10.150       9.952\n",
      "ar.L4          0.0893      3.478      0.026      0.980      -6.728       6.907\n",
      "ar.L5         -0.4000      2.772     -0.144      0.885      -5.834       5.034\n",
      "ar.L6          0.3354      3.443      0.097      0.922      -6.412       7.083\n",
      "ma.L1         -0.1652      7.341     -0.023      0.982     -14.553      14.223\n",
      "ma.L2         -0.5091      3.463     -0.147      0.883      -7.297       6.279\n",
      "ma.L3         -0.0134      4.234     -0.003      0.997      -8.312       8.285\n",
      "ma.L4          0.0094      3.779      0.002      0.998      -7.397       7.416\n",
      "ma.L5          0.3944      2.711      0.145      0.884      -4.919       5.708\n",
      "ma.L6         -0.3209      2.805     -0.114      0.909      -5.819       5.177\n",
      "ma.L7         -0.1424      0.299     -0.477      0.634      -0.728       0.443\n",
      "ma.L8         -0.0658      1.160     -0.057      0.955      -2.339       2.207\n",
      "ma.L9         -0.0209      1.183     -0.018      0.986      -2.340       2.299\n",
      "ma.L10        -0.0987      0.763     -0.129      0.897      -1.594       1.397\n",
      "ma.L11         0.0513      0.782      0.066      0.948      -1.482       1.584\n",
      "ma.L12         0.3519      0.655      0.537      0.591      -0.932       1.636\n",
      "ma.L13         0.1664      3.101      0.054      0.957      -5.911       6.244\n",
      "ma.L14        -0.2043      3.081     -0.066      0.947      -6.243       5.834\n",
      "ma.L15        -0.1758      1.560     -0.113      0.910      -3.234       2.882\n",
      "ma.L16        -0.0086      2.553     -0.003      0.997      -5.013       4.996\n",
      "ma.L17         0.1491      2.026      0.074      0.941      -3.823       4.121\n",
      "ma.L18         0.0051      0.814      0.006      0.995      -1.590       1.600\n",
      "ma.L19        -0.0907      0.803     -0.113      0.910      -1.665       1.484\n",
      "ar.S.L40      -0.0372     56.616     -0.001      0.999    -111.003     110.929\n",
      "ar.S.L80       0.0025     12.725      0.000      1.000     -24.937      24.942\n",
      "ma.S.L40      -0.0403     56.617     -0.001      0.999    -111.007     110.927\n",
      "ma.S.L80       0.0123      8.413      0.001      0.999     -16.477      16.501\n",
      "sigma2         0.0014      0.000      6.413      0.000       0.001       0.002\n",
      "===================================================================================\n",
      "Ljung-Box (L1) (Q):                   0.06   Jarque-Bera (JB):               805.93\n",
      "Prob(Q):                              0.80   Prob(JB):                         0.00\n",
      "Heteroskedasticity (H):               0.18   Skew:                             1.38\n",
      "Prob(H) (two-sided):                  0.00   Kurtosis:                        11.87\n",
      "===================================================================================\n",
      "\n",
      "Warnings:\n",
      "[1] Covariance matrix calculated using the outer product of gradients (complex-step).\n"
     ]
    }
   ],
   "source": [
    "print(selection.summary())"
   ]
  },
  {
   "cell_type": "code",
   "execution_count": 59,
   "id": "7bbe27fb",
   "metadata": {},
   "outputs": [],
   "source": [
    "ts = ARIMA(pos_toy, order=(3,0,17)).fit()"
   ]
  },
  {
   "cell_type": "code",
   "execution_count": 60,
   "id": "d77b81b2",
   "metadata": {},
   "outputs": [
    {
     "name": "stdout",
     "output_type": "stream",
     "text": [
      "model is good [0.88721507]\n"
     ]
    }
   ],
   "source": [
    "# ljung box test \n",
    "pvalue = sm.stats.acorr_ljungbox(ts.resid,lags =[40],return_df = True)[\"lb_pvalue\"].values\n",
    "if pvalue<0.05:\n",
    "    print(\"model is not  good\",pvalue)\n",
    "else:\n",
    "    print(\"model is good\", pvalue)"
   ]
  },
  {
   "cell_type": "code",
   "execution_count": 61,
   "id": "fa285cce",
   "metadata": {},
   "outputs": [],
   "source": [
    "# predict \n",
    "mypred = ts.predict(0,len(pos_toy)-1)"
   ]
  },
  {
   "cell_type": "code",
   "execution_count": 62,
   "id": "e68ff255",
   "metadata": {},
   "outputs": [
    {
     "name": "stdout",
     "output_type": "stream",
     "text": [
      "mse : 0.0016178589164585256\n",
      "rmse : 0.04022261697675234\n"
     ]
    }
   ],
   "source": [
    "# model performnce cal mse and rmse\n",
    "from sklearn.metrics import mean_squared_error\n",
    "print(\"mse :\",mean_squared_error(pos_toy,mypred))\n",
    "print(\"rmse :\",mean_squared_error(pos_toy,mypred, squared = False))"
   ]
  },
  {
   "cell_type": "code",
   "execution_count": 63,
   "id": "dafdef20",
   "metadata": {},
   "outputs": [],
   "source": [
    "# forecast \n",
    "tsforecast = ts.forecast(36)"
   ]
  },
  {
   "cell_type": "code",
   "execution_count": 64,
   "id": "4b72eeb8",
   "metadata": {
    "collapsed": true
   },
   "outputs": [
    {
     "data": {
      "image/png": "[encoded data removed]",
      "text/plain": [
       "<Figure size 2000x800 with 1 Axes>"
      ]
     },
     "metadata": {},
     "output_type": "display_data"
    }
   ],
   "source": [
    "# plot actual vs pred\n",
    "fig,ax = plt.subplots(1,1,figsize = (20,8))\n",
    "plt.plot(pos_toy,color = \"black\")# actual\n",
    "plt.plot(tsforecast,color = \"cyan\")# forecast\n",
    "plt.plot(mypred,color = \"red\")# predicted\n",
    "plt.legend([\"actual\",\"forecast\",\"predicted\"]);"
   ]
  },
  {
   "cell_type": "markdown",
   "id": "5e78750f",
   "metadata": {},
   "source": [
    "### Modelling for negative sentiment through time"
   ]
  },
  {
   "cell_type": "code",
   "execution_count": 21,
   "id": "e31f3647",
   "metadata": {
    "collapsed": true
   },
   "outputs": [
    {
     "data": {
      "text/html": [
       "<div>\n",
       "<style scoped>\n",
       "    .dataframe tbody tr th:only-of-type {\n",
       "        vertical-align: middle;\n",
       "    }\n",
       "\n",
       "    .dataframe tbody tr th {\n",
       "        vertical-align: top;\n",
       "    }\n",
       "\n",
       "    .dataframe thead th {\n",
       "        text-align: right;\n",
       "    }\n",
       "</style>\n",
       "<table border=\"1\" class=\"dataframe\">\n",
       "  <thead>\n",
       "    <tr style=\"text-align: right;\">\n",
       "      <th></th>\n",
       "      <th>polar</th>\n",
       "    </tr>\n",
       "    <tr>\n",
       "      <th>reviewTime</th>\n",
       "      <th></th>\n",
       "    </tr>\n",
       "  </thead>\n",
       "  <tbody>\n",
       "    <tr>\n",
       "      <th>2016-09-22</th>\n",
       "      <td>-2.333333e-01</td>\n",
       "    </tr>\n",
       "    <tr>\n",
       "      <th>2016-09-18</th>\n",
       "      <td>-5.727513e-02</td>\n",
       "    </tr>\n",
       "    <tr>\n",
       "      <th>2017-02-08</th>\n",
       "      <td>-3.166667e-01</td>\n",
       "    </tr>\n",
       "    <tr>\n",
       "      <th>2007-09-21</th>\n",
       "      <td>-1.666667e-01</td>\n",
       "    </tr>\n",
       "    <tr>\n",
       "      <th>2015-04-19</th>\n",
       "      <td>-2.775558e-17</td>\n",
       "    </tr>\n",
       "  </tbody>\n",
       "</table>\n",
       "</div>"
      ],
      "text/plain": [
       "                   polar\n",
       "reviewTime              \n",
       "2016-09-22 -2.333333e-01\n",
       "2016-09-18 -5.727513e-02\n",
       "2017-02-08 -3.166667e-01\n",
       "2007-09-21 -1.666667e-01\n",
       "2015-04-19 -2.775558e-17"
      ]
     },
     "execution_count": 21,
     "metadata": {},
     "output_type": "execute_result"
    }
   ],
   "source": [
    "#Creating a dataset with polarity and review time from main data where sentiment is negative\n",
    "neg_toy=toy_df[toy_df['sentiment']=='negative'][['reviewTime','polar']]\n",
    "\n",
    "#Converting the date feature into standard datetime feature\n",
    "neg_toy['reviewTime'] = pd.to_datetime(neg_toy['reviewTime'], dayfirst = True)\n",
    "\n",
    "#Setting the datetime feature as index of data \n",
    "neg_toy.set_index(\"reviewTime\", inplace=True)\n",
    "neg_toy.head()"
   ]
  },
  {
   "cell_type": "code",
   "execution_count": 22,
   "id": "ab2ea9ff",
   "metadata": {
    "collapsed": true
   },
   "outputs": [
    {
     "data": {
      "text/html": [
       "<div>\n",
       "<style scoped>\n",
       "    .dataframe tbody tr th:only-of-type {\n",
       "        vertical-align: middle;\n",
       "    }\n",
       "\n",
       "    .dataframe tbody tr th {\n",
       "        vertical-align: top;\n",
       "    }\n",
       "\n",
       "    .dataframe thead th {\n",
       "        text-align: right;\n",
       "    }\n",
       "</style>\n",
       "<table border=\"1\" class=\"dataframe\">\n",
       "  <thead>\n",
       "    <tr style=\"text-align: right;\">\n",
       "      <th></th>\n",
       "      <th>polar</th>\n",
       "    </tr>\n",
       "    <tr>\n",
       "      <th>reviewTime</th>\n",
       "      <th></th>\n",
       "    </tr>\n",
       "  </thead>\n",
       "  <tbody>\n",
       "    <tr>\n",
       "      <th>2000-07-31</th>\n",
       "      <td>-0.145833</td>\n",
       "    </tr>\n",
       "    <tr>\n",
       "      <th>2000-08-31</th>\n",
       "      <td>-0.046499</td>\n",
       "    </tr>\n",
       "    <tr>\n",
       "      <th>2000-09-30</th>\n",
       "      <td>-0.026511</td>\n",
       "    </tr>\n",
       "    <tr>\n",
       "      <th>2000-10-31</th>\n",
       "      <td>-0.066472</td>\n",
       "    </tr>\n",
       "    <tr>\n",
       "      <th>2000-11-30</th>\n",
       "      <td>-0.082485</td>\n",
       "    </tr>\n",
       "  </tbody>\n",
       "</table>\n",
       "</div>"
      ],
      "text/plain": [
       "               polar\n",
       "reviewTime          \n",
       "2000-07-31 -0.145833\n",
       "2000-08-31 -0.046499\n",
       "2000-09-30 -0.026511\n",
       "2000-10-31 -0.066472\n",
       "2000-11-30 -0.082485"
      ]
     },
     "execution_count": 22,
     "metadata": {},
     "output_type": "execute_result"
    }
   ],
   "source": [
    "#Resampling data from daily data to monthly average data\n",
    "neg_toy=neg_toy.resample('M').mean()\n",
    "neg_toy.head()"
   ]
  },
  {
   "cell_type": "code",
   "execution_count": 23,
   "id": "7a883dc9",
   "metadata": {},
   "outputs": [
    {
     "data": {
      "text/html": [
       "<div>\n",
       "<style scoped>\n",
       "    .dataframe tbody tr th:only-of-type {\n",
       "        vertical-align: middle;\n",
       "    }\n",
       "\n",
       "    .dataframe tbody tr th {\n",
       "        vertical-align: top;\n",
       "    }\n",
       "\n",
       "    .dataframe thead th {\n",
       "        text-align: right;\n",
       "    }\n",
       "</style>\n",
       "<table border=\"1\" class=\"dataframe\">\n",
       "  <thead>\n",
       "    <tr style=\"text-align: right;\">\n",
       "      <th></th>\n",
       "      <th>polar</th>\n",
       "    </tr>\n",
       "    <tr>\n",
       "      <th>reviewTime</th>\n",
       "      <th></th>\n",
       "    </tr>\n",
       "  </thead>\n",
       "  <tbody>\n",
       "    <tr>\n",
       "      <th>2000-07-31</th>\n",
       "      <td>-0.145833</td>\n",
       "    </tr>\n",
       "    <tr>\n",
       "      <th>2000-08-31</th>\n",
       "      <td>-0.046499</td>\n",
       "    </tr>\n",
       "    <tr>\n",
       "      <th>2000-09-30</th>\n",
       "      <td>-0.026511</td>\n",
       "    </tr>\n",
       "    <tr>\n",
       "      <th>2000-10-31</th>\n",
       "      <td>-0.066472</td>\n",
       "    </tr>\n",
       "    <tr>\n",
       "      <th>2000-11-30</th>\n",
       "      <td>-0.082485</td>\n",
       "    </tr>\n",
       "  </tbody>\n",
       "</table>\n",
       "</div>"
      ],
      "text/plain": [
       "               polar\n",
       "reviewTime          \n",
       "2000-07-31 -0.145833\n",
       "2000-08-31 -0.046499\n",
       "2000-09-30 -0.026511\n",
       "2000-10-31 -0.066472\n",
       "2000-11-30 -0.082485"
      ]
     },
     "execution_count": 23,
     "metadata": {},
     "output_type": "execute_result"
    }
   ],
   "source": [
    "#imputation of missing data by interpolation method with time as factor\n",
    "neg_toy['polar'].interpolate(method='time',inplace=True)\n",
    "neg_toy.head()"
   ]
  },
  {
   "cell_type": "code",
   "execution_count": 24,
   "id": "e4ed0f99",
   "metadata": {},
   "outputs": [
    {
     "data": {
      "image/png": "[encoded data removed]",
      "text/plain": [
       "<Figure size 640x480 with 4 Axes>"
      ]
     },
     "metadata": {},
     "output_type": "display_data"
    }
   ],
   "source": [
    "seasonal_decompose(neg_toy).plot()\n",
    "plt.show()"
   ]
  },
  {
   "cell_type": "code",
   "execution_count": 25,
   "id": "25b80183",
   "metadata": {},
   "outputs": [
    {
     "name": "stdout",
     "output_type": "stream",
     "text": [
      "data is not stationary\n"
     ]
    }
   ],
   "source": [
    "#to check stationarity\n",
    "def checkstationary(data):\n",
    "    pvalue = adfuller(data)[1]\n",
    "    if (pvalue>0.05):\n",
    "        print(\"data is not stationary\")\n",
    "    else:\n",
    "        print(\"data is stationary\")\n",
    "        print(\"pvalue is : \",format(float(pvalue),'f'))\n",
    "        \n",
    "checkstationary(neg_toy)"
   ]
  },
  {
   "cell_type": "code",
   "execution_count": 26,
   "id": "2d37824f",
   "metadata": {},
   "outputs": [],
   "source": [
    "neg_toy_diff=neg_toy-neg_toy.shift(1) #lagged data through shift function \n",
    "neg_toy_diff.dropna(inplace=True)"
   ]
  },
  {
   "cell_type": "code",
   "execution_count": 27,
   "id": "e1a77b4b",
   "metadata": {},
   "outputs": [
    {
     "name": "stdout",
     "output_type": "stream",
     "text": [
      "data is stationary\n",
      "pvalue is :  0.000000\n"
     ]
    }
   ],
   "source": [
    "checkstationary(neg_toy_diff)"
   ]
  },
  {
   "cell_type": "code",
   "execution_count": 28,
   "id": "4afad097",
   "metadata": {
    "collapsed": true
   },
   "outputs": [
    {
     "name": "stderr",
     "output_type": "stream",
     "text": [
      "C:\\Users\\prakash.j.m\\anaconda3\\New folder\\lib\\site-packages\\statsmodels\\graphics\\tsaplots.py:348: FutureWarning: The default method 'yw' can produce PACF values outside of the [-1,1] interval. After 0.13, the default will change tounadjusted Yule-Walker ('ywm'). You can use this method now by setting method='ywm'.\n",
      "  warnings.warn(\n"
     ]
    },
    {
     "data": {
      "image/png": "[encoded data removed]",
      "text/plain": [
       "<Figure size 1500x600 with 2 Axes>"
      ]
     },
     "metadata": {},
     "output_type": "display_data"
    }
   ],
   "source": [
    "#plotting acf and pacf\n",
    "fig = plt.figure(figsize=(15, 6))\n",
    "\n",
    "# Show ACF\n",
    "ax1 = fig.add_subplot(121)\n",
    "plot_acf(neg_toy_diff, lags=40, ax=ax1)\n",
    "\n",
    "# Show PACF\n",
    "ax2 = fig.add_subplot(122)\n",
    "plot_pacf(neg_toy_diff, lags=40, ax=ax2)\n",
    "\n",
    "plt.tight_layout()"
   ]
  },
  {
   "cell_type": "code",
   "execution_count": null,
   "id": "9447c43b",
   "metadata": {},
   "outputs": [],
   "source": [
    "# q is 1 p is 9 d is 1"
   ]
  },
  {
   "cell_type": "code",
   "execution_count": 29,
   "id": "37890f20",
   "metadata": {},
   "outputs": [
    {
     "data": {
      "text/plain": [
       "(214, 1)"
      ]
     },
     "execution_count": 29,
     "metadata": {},
     "output_type": "execute_result"
    }
   ],
   "source": [
    "neg_toy_diff.shape"
   ]
  },
  {
   "cell_type": "code",
   "execution_count": 30,
   "id": "c0dee28a",
   "metadata": {},
   "outputs": [
    {
     "name": "stdout",
     "output_type": "stream",
     "text": [
      "train = 149, test = 65\n"
     ]
    }
   ],
   "source": [
    "# split the data into train and test\n",
    "ss = int(0.7 * len(neg_toy_diff))       #finding the length of train\n",
    "\n",
    "train = neg_toy_diff['polar'].iloc[:ss]      #indexing the train data\n",
    "test = neg_toy_diff['polar'].iloc[ss:]       #indexing the test data\n",
    "print(\"train = {}, test = {}\".format(len(train), len(test)))"
   ]
  },
  {
   "cell_type": "code",
   "execution_count": 13,
   "id": "f29bbc44",
   "metadata": {},
   "outputs": [],
   "source": [
    "p=9\n",
    "q=1\n",
    "d=1"
   ]
  },
  {
   "cell_type": "markdown",
   "id": "7fb27f64",
   "metadata": {},
   "source": [
    "## SARIMA MODEL"
   ]
  },
  {
   "cell_type": "code",
   "execution_count": 14,
   "id": "7ee48ed3",
   "metadata": {
    "collapsed": true
   },
   "outputs": [
    {
     "name": "stderr",
     "output_type": "stream",
     "text": [
      "C:\\Users\\prakash.j.m\\anaconda3\\New folder\\lib\\site-packages\\statsmodels\\tsa\\statespace\\sarimax.py:966: UserWarning: Non-stationary starting autoregressive parameters found. Using zeros as starting parameters.\n",
      "  warn('Non-stationary starting autoregressive parameters'\n",
      "C:\\Users\\prakash.j.m\\anaconda3\\New folder\\lib\\site-packages\\statsmodels\\tsa\\statespace\\sarimax.py:978: UserWarning: Non-invertible starting MA parameters found. Using zeros as starting parameters.\n",
      "  warn('Non-invertible starting MA parameters found.'\n"
     ]
    },
    {
     "name": "stdout",
     "output_type": "stream",
     "text": [
      "                                     SARIMAX Results                                      \n",
      "==========================================================================================\n",
      "Dep. Variable:                              polar   No. Observations:                  149\n",
      "Model:             SARIMAX(9, 1, 1)x(1, 1, 1, 12)   Log Likelihood                 216.142\n",
      "Date:                            Wed, 19 Jul 2023   AIC                           -406.284\n",
      "Time:                                    17:20:58   BIC                           -368.419\n",
      "Sample:                                08-31-2000   HQIC                          -390.897\n",
      "                                     - 12-31-2012                                         \n",
      "Covariance Type:                              opg                                         \n",
      "==============================================================================\n",
      "                 coef    std err          z      P>|z|      [0.025      0.975]\n",
      "------------------------------------------------------------------------------\n",
      "ar.L1         -0.9444      0.106     -8.872      0.000      -1.153      -0.736\n",
      "ar.L2         -0.9530      0.144     -6.617      0.000      -1.235      -0.671\n",
      "ar.L3         -0.8704      0.177     -4.925      0.000      -1.217      -0.524\n",
      "ar.L4         -0.9537      0.188     -5.082      0.000      -1.321      -0.586\n",
      "ar.L5         -0.8103      0.196     -4.143      0.000      -1.194      -0.427\n",
      "ar.L6         -0.6424      0.164     -3.907      0.000      -0.965      -0.320\n",
      "ar.L7         -0.5850      0.141     -4.161      0.000      -0.861      -0.309\n",
      "ar.L8         -0.4345      0.137     -3.178      0.001      -0.702      -0.167\n",
      "ar.L9         -0.1560      0.097     -1.605      0.109      -0.346       0.035\n",
      "ma.L1         -0.9349      0.074    -12.647      0.000      -1.080      -0.790\n",
      "ar.S.L12       0.0655      0.176      0.372      0.710      -0.280       0.411\n",
      "ma.S.L12      -0.7824      0.142     -5.504      0.000      -1.061      -0.504\n",
      "sigma2         0.0020      0.000      7.879      0.000       0.002       0.003\n",
      "===================================================================================\n",
      "Ljung-Box (L1) (Q):                   0.46   Jarque-Bera (JB):                 8.69\n",
      "Prob(Q):                              0.50   Prob(JB):                         0.01\n",
      "Heteroskedasticity (H):               0.69   Skew:                            -0.57\n",
      "Prob(H) (two-sided):                  0.22   Kurtosis:                         3.47\n",
      "===================================================================================\n",
      "\n",
      "Warnings:\n",
      "[1] Covariance matrix calculated using the outer product of gradients (complex-step).\n"
     ]
    },
    {
     "name": "stderr",
     "output_type": "stream",
     "text": [
      "C:\\Users\\prakash.j.m\\anaconda3\\New folder\\lib\\site-packages\\statsmodels\\base\\model.py:604: ConvergenceWarning: Maximum Likelihood optimization failed to converge. Check mle_retvals\n",
      "  warnings.warn(\"Maximum Likelihood optimization failed to \"\n"
     ]
    }
   ],
   "source": [
    "model_ma = SARIMAX(train, order=(p,d,q),seasonal_order=(1,1,1,12))         #Building the model with seasonal components \n",
    "model_fitted = model_ma.fit()\n",
    "print(model_fitted.summary())"
   ]
  },
  {
   "cell_type": "code",
   "execution_count": 15,
   "id": "c7e47a30",
   "metadata": {},
   "outputs": [
    {
     "name": "stdout",
     "output_type": "stream",
     "text": [
      "good model\n"
     ]
    }
   ],
   "source": [
    "# Using Ljung box method to find the goodness of the model\n",
    "lj_pval=sm.stats.acorr_ljungbox(model_fitted.resid,lags=[1],return_df=True)['lb_pvalue'].values[0]\n",
    "if lj_pval>0.05:\n",
    "    print('good model')\n",
    "else:\n",
    "    print('bad model')"
   ]
  },
  {
   "cell_type": "code",
   "execution_count": 16,
   "id": "2b3f9291",
   "metadata": {
    "collapsed": true
   },
   "outputs": [
    {
     "data": {
      "text/plain": [
       "2013-01-31    0.030501\n",
       "2013-02-28    0.002488\n",
       "2013-03-31    0.007685\n",
       "2013-04-30    0.004656\n",
       "2013-05-31   -0.018531\n",
       "                ...   \n",
       "2018-02-28    0.008998\n",
       "2018-03-31   -0.001129\n",
       "2018-04-30   -0.010342\n",
       "2018-05-31   -0.004878\n",
       "2018-06-30    0.024037\n",
       "Freq: M, Name: predicted_mean, Length: 66, dtype: float64"
      ]
     },
     "execution_count": 16,
     "metadata": {},
     "output_type": "execute_result"
    }
   ],
   "source": [
    "pred=model_fitted.predict(len(train),len(train)+len(test))   #predicting the data from end of train data upto length of test data \n",
    "pred"
   ]
  },
  {
   "cell_type": "code",
   "execution_count": 33,
   "id": "7bfda8bc",
   "metadata": {},
   "outputs": [
    {
     "name": "stdout",
     "output_type": "stream",
     "text": [
      "mse: 0.0007459374842588972\n",
      "rmse: 0.027311856111566224\n"
     ]
    }
   ],
   "source": [
    "# model performnce cal mse and rmse\n",
    "from sklearn.metrics import mean_squared_error\n",
    "import numpy as np\n",
    "mse = np.mean((pred - test) ** 2)\n",
    "rmse = np.sqrt(mse)\n",
    "print(\"mse:\",mse)\n",
    "print(\"rmse:\",rmse)"
   ]
  },
  {
   "cell_type": "code",
   "execution_count": 34,
   "id": "01bb0e92",
   "metadata": {
    "collapsed": true
   },
   "outputs": [
    {
     "data": {
      "text/html": [
       "<div>\n",
       "<style scoped>\n",
       "    .dataframe tbody tr th:only-of-type {\n",
       "        vertical-align: middle;\n",
       "    }\n",
       "\n",
       "    .dataframe tbody tr th {\n",
       "        vertical-align: top;\n",
       "    }\n",
       "\n",
       "    .dataframe thead th {\n",
       "        text-align: right;\n",
       "    }\n",
       "</style>\n",
       "<table border=\"1\" class=\"dataframe\">\n",
       "  <thead>\n",
       "    <tr style=\"text-align: right;\">\n",
       "      <th></th>\n",
       "      <th>actual</th>\n",
       "      <th>predicted</th>\n",
       "      <th>error</th>\n",
       "    </tr>\n",
       "  </thead>\n",
       "  <tbody>\n",
       "    <tr>\n",
       "      <th>0</th>\n",
       "      <td>0.011442</td>\n",
       "      <td>0.030501</td>\n",
       "      <td>-0.019059</td>\n",
       "    </tr>\n",
       "    <tr>\n",
       "      <th>1</th>\n",
       "      <td>0.000383</td>\n",
       "      <td>0.002488</td>\n",
       "      <td>-0.002105</td>\n",
       "    </tr>\n",
       "    <tr>\n",
       "      <th>2</th>\n",
       "      <td>-0.006055</td>\n",
       "      <td>0.007685</td>\n",
       "      <td>-0.013740</td>\n",
       "    </tr>\n",
       "    <tr>\n",
       "      <th>3</th>\n",
       "      <td>0.012971</td>\n",
       "      <td>0.004656</td>\n",
       "      <td>0.008315</td>\n",
       "    </tr>\n",
       "    <tr>\n",
       "      <th>4</th>\n",
       "      <td>-0.018138</td>\n",
       "      <td>-0.018531</td>\n",
       "      <td>0.000393</td>\n",
       "    </tr>\n",
       "    <tr>\n",
       "      <th>...</th>\n",
       "      <td>...</td>\n",
       "      <td>...</td>\n",
       "      <td>...</td>\n",
       "    </tr>\n",
       "    <tr>\n",
       "      <th>60</th>\n",
       "      <td>0.021779</td>\n",
       "      <td>0.013391</td>\n",
       "      <td>0.008388</td>\n",
       "    </tr>\n",
       "    <tr>\n",
       "      <th>61</th>\n",
       "      <td>-0.018660</td>\n",
       "      <td>0.008998</td>\n",
       "      <td>-0.027658</td>\n",
       "    </tr>\n",
       "    <tr>\n",
       "      <th>62</th>\n",
       "      <td>0.016538</td>\n",
       "      <td>-0.001129</td>\n",
       "      <td>0.017667</td>\n",
       "    </tr>\n",
       "    <tr>\n",
       "      <th>63</th>\n",
       "      <td>-0.010040</td>\n",
       "      <td>-0.010342</td>\n",
       "      <td>0.000302</td>\n",
       "    </tr>\n",
       "    <tr>\n",
       "      <th>64</th>\n",
       "      <td>0.086172</td>\n",
       "      <td>-0.004878</td>\n",
       "      <td>0.091050</td>\n",
       "    </tr>\n",
       "  </tbody>\n",
       "</table>\n",
       "<p>65 rows × 3 columns</p>\n",
       "</div>"
      ],
      "text/plain": [
       "      actual  predicted     error\n",
       "0   0.011442   0.030501 -0.019059\n",
       "1   0.000383   0.002488 -0.002105\n",
       "2  -0.006055   0.007685 -0.013740\n",
       "3   0.012971   0.004656  0.008315\n",
       "4  -0.018138  -0.018531  0.000393\n",
       "..       ...        ...       ...\n",
       "60  0.021779   0.013391  0.008388\n",
       "61 -0.018660   0.008998 -0.027658\n",
       "62  0.016538  -0.001129  0.017667\n",
       "63 -0.010040  -0.010342  0.000302\n",
       "64  0.086172  -0.004878  0.091050\n",
       "\n",
       "[65 rows x 3 columns]"
      ]
     },
     "execution_count": 34,
     "metadata": {},
     "output_type": "execute_result"
    }
   ],
   "source": [
    "# Creating a dataset with actual test data and predicted data\n",
    "actual,predicted=[],[]                 #Lists for actual and predicted data\n",
    "for i in range(len(pred)-1):\n",
    "    actual.append(test.iloc[i])              #adding actual data to actual list\n",
    "    predicted.append(pred.iloc[i])           #adding pred data to predicted list\n",
    "new_df=pd.DataFrame({'actual':actual,'predicted':predicted})   #creating dataframe with both lists\n",
    "new_df['error']=new_df['actual'] - new_df['predicted']\n",
    "new_df"
   ]
  },
  {
   "cell_type": "code",
   "execution_count": 35,
   "id": "74a77c39",
   "metadata": {
    "collapsed": true
   },
   "outputs": [
    {
     "data": {
      "image/png": "[encoded data removed]",
      "text/plain": [
       "<Figure size 640x480 with 1 Axes>"
      ]
     },
     "metadata": {},
     "output_type": "display_data"
    }
   ],
   "source": [
    "# Plotting the actual and pred data to visualize the spread of data\n",
    "new_df[['actual','predicted']].plot()\n",
    "plt.title('actual vs predicted')\n",
    "plt.ylabel('polarity')\n",
    "plt.show()"
   ]
  },
  {
   "cell_type": "code",
   "execution_count": 36,
   "id": "f6137f49",
   "metadata": {
    "collapsed": true
   },
   "outputs": [
    {
     "data": {
      "image/png": "[encoded data removed]",
      "text/plain": [
       "<Figure size 640x480 with 1 Axes>"
      ]
     },
     "metadata": {},
     "output_type": "display_data"
    }
   ],
   "source": [
    "# Forecasting the data for next three years\n",
    "frst=model_fitted.predict(len(neg_toy_diff),len(neg_toy_diff)+35)     #predicting the model for next 36 values\n",
    "neg_toy_diff['polar'].plot(legend=True)                               #plotting actual data \n",
    "frst.plot(legend=True)                                                #plotting forecast data in the same plot\n",
    "plt.show()"
   ]
  },
  {
   "cell_type": "code",
   "execution_count": null,
   "id": "0b1ad1bb",
   "metadata": {},
   "outputs": [],
   "source": []
  },
  {
   "cell_type": "code",
   "execution_count": null,
   "id": "b983ce53",
   "metadata": {},
   "outputs": [],
   "source": []
  },
  {
   "cell_type": "code",
   "execution_count": null,
   "id": "5085929d",
   "metadata": {},
   "outputs": [],
   "source": []
  },
  {
   "cell_type": "code",
   "execution_count": null,
   "id": "c3ddd012",
   "metadata": {},
   "outputs": [],
   "source": []
  },
  {
   "cell_type": "code",
   "execution_count": null,
   "id": "295f609d",
   "metadata": {},
   "outputs": [],
   "source": []
  },
  {
   "cell_type": "code",
   "execution_count": null,
   "id": "e73e77ec",
   "metadata": {},
   "outputs": [],
   "source": []
  }
 ],
 "metadata": {
  "kernelspec": {
   "display_name": "Python 3 (ipykernel)",
   "language": "python",
   "name": "python3"
  },
  "language_info": {
   "codemirror_mode": {
    "name": "ipython",
    "version": 3
   },
   "file_extension": ".py",
   "mimetype": "text/x-python",
   "name": "python",
   "nbconvert_exporter": "python",
   "pygments_lexer": "ipython3",
   "version": "3.10.9"
  }
 },
 "nbformat": 4,
 "nbformat_minor": 5
}
